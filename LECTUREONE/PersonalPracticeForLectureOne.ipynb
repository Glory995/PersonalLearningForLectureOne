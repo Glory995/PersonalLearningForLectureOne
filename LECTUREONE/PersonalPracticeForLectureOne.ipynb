{
 "cells": [
  {
   "cell_type": "markdown",
   "metadata": {},
   "source": [
    "# Python Practice Questions - 50 Questions\n",
    "\n",
    "### Based on Python Programming Fundamentals Lecture\n",
    "\n",
    "This notebook contains 50 questions covering:\n",
    "\n",
    "- Python basics and print statements\n",
    "- Object types (scalar and non-scalar)\n",
    "- Expressions and operators\n",
    "- Variables and assignments\n",
    "- Conditionals\n",
    "- Strings and string operations\n",
    "- Type conversion\n",
    "\n",
    "**Instructions:** Answer each question in the cell provided below it.\n"
   ]
  },
  {
   "cell_type": "markdown",
   "metadata": {},
   "source": [
    "## Question 1 (Theory)\n",
    "\n",
    "What are the four scalar object types in Python? List them with a brief description of each.\n"
   ]
  },
  {
   "cell_type": "code",
   "execution_count": 1,
   "metadata": {},
   "outputs": [
    {
     "name": "stdout",
     "output_type": "stream",
     "text": [
      "int, Float, bool , none\n"
     ]
    }
   ],
   "source": [
    "# Your answer here\n",
    "print (\"int, Float, bool , none\")"
   ]
  },
  {
   "cell_type": "markdown",
   "metadata": {},
   "source": [
    "## Question 2 (Programming)\n",
    "\n",
    "Write a print statement that displays: \"Welcome to Python Programming!\"\n"
   ]
  },
  {
   "cell_type": "code",
   "execution_count": 3,
   "metadata": {},
   "outputs": [
    {
     "name": "stdout",
     "output_type": "stream",
     "text": [
      "welcome to python programing \n"
     ]
    }
   ],
   "source": [
    "# Your code here\n",
    "print(\"welcome to python programing \")"
   ]
  },
  {
   "cell_type": "markdown",
   "metadata": {},
   "source": [
    "## Question 3 (Programming)\n",
    "\n",
    "Calculate the value of the expression: 15 + 7 \\* 3 - 4\n"
   ]
  },
  {
   "cell_type": "code",
   "execution_count": 4,
   "metadata": {},
   "outputs": [
    {
     "data": {
      "text/plain": [
       "32"
      ]
     },
     "execution_count": 4,
     "metadata": {},
     "output_type": "execute_result"
    }
   ],
   "source": [
    "# Your code here  BODMAS\n",
    "15 +7*3-4"
   ]
  },
  {
   "cell_type": "markdown",
   "metadata": {},
   "source": [
    "## Question 4 (Programming)\n",
    "\n",
    "Use floor division to find how many times 17 goes into 89.\n"
   ]
  },
  {
   "cell_type": "code",
   "execution_count": 8,
   "metadata": {},
   "outputs": [
    {
     "name": "stdout",
     "output_type": "stream",
     "text": [
      "5.235294117647059\n"
     ]
    },
    {
     "data": {
      "text/plain": [
       "5"
      ]
     },
     "execution_count": 8,
     "metadata": {},
     "output_type": "execute_result"
    }
   ],
   "source": [
    "# Your code here\n",
    "print(89/17)\n",
    "\n",
    "89//17"
   ]
  },
  {
   "cell_type": "markdown",
   "metadata": {},
   "source": [
    "## Question 5 (Programming)\n",
    "\n",
    "Find the remainder when 89 is divided by 17.\n"
   ]
  },
  {
   "cell_type": "code",
   "execution_count": 12,
   "metadata": {},
   "outputs": [
    {
     "name": "stdout",
     "output_type": "stream",
     "text": [
      "5.235294117647059\n",
      "85\n",
      "4\n"
     ]
    }
   ],
   "source": [
    "# Your code here\n",
    "89%17\n",
    "\n",
    "print(89/17)\n",
    "\n",
    "print(5*17)\n",
    "\n",
    "print(89%17)"
   ]
  },
  {
   "cell_type": "markdown",
   "metadata": {},
   "source": [
    "## Question 6 (Programming)\n",
    "\n",
    "Calculate 2 to the power of 8.\n"
   ]
  },
  {
   "cell_type": "code",
   "execution_count": 14,
   "metadata": {},
   "outputs": [
    {
     "name": "stdout",
     "output_type": "stream",
     "text": [
      "256\n",
      "256\n"
     ]
    }
   ],
   "source": [
    "# Your code here\n",
    "print(2**8)\n",
    "\n",
    "print (2*2*2*2*2*2*2*2)"
   ]
  },
  {
   "cell_type": "markdown",
   "metadata": {},
   "source": [
    "## Question 7 (Programming)\n",
    "\n",
    "Create a boolean expression that checks if 15 is greater than 10 AND less than 20.\n"
   ]
  },
  {
   "cell_type": "code",
   "execution_count": 17,
   "metadata": {},
   "outputs": [
    {
     "name": "stdout",
     "output_type": "stream",
     "text": [
      "False\n"
     ]
    }
   ],
   "source": [
    "# Your code here\n",
    "\n",
    "expres = lambda x : True if x>10 and x<20 else False\n",
    "\n",
    "print(expres(8))\n"
   ]
  },
  {
   "cell_type": "markdown",
   "metadata": {},
   "source": [
    "## Question 8 (Programming)\n",
    "\n",
    "Write an expression using 'or' that evaluates to True when either 5 > 10 or 3 < 7.\n"
   ]
  },
  {
   "cell_type": "code",
   "execution_count": 18,
   "metadata": {},
   "outputs": [
    {
     "name": "stdout",
     "output_type": "stream",
     "text": [
      "True\n"
     ]
    }
   ],
   "source": [
    "# Your codee\n",
    "\n",
    "print(5>10 or 3<7 )"
   ]
  },
  {
   "cell_type": "markdown",
   "metadata": {},
   "source": [
    "## Question 9 (Programming)\n",
    "\n",
    "Use the 'not' operator to make the expression '8 == 8' evaluate to False.\n"
   ]
  },
  {
   "cell_type": "code",
   "execution_count": 19,
   "metadata": {},
   "outputs": [
    {
     "name": "stdout",
     "output_type": "stream",
     "text": [
      "False\n"
     ]
    }
   ],
   "source": [
    "# Your code here\n",
    "print( 8 == 9)"
   ]
  },
  {
   "cell_type": "markdown",
   "metadata": {},
   "source": [
    "## Question 10 (Programming)\n",
    "\n",
    "Create variables to store your name and age, then print them in a formatted message.\n"
   ]
  },
  {
   "cell_type": "code",
   "execution_count": 20,
   "metadata": {},
   "outputs": [
    {
     "name": "stdout",
     "output_type": "stream",
     "text": [
      " my name is Glory and I am 24 years old\n"
     ]
    }
   ],
   "source": [
    "# Your code here\n",
    "name = \"Glory\"\n",
    "\n",
    "age = 24\n",
    "\n",
    "\n",
    "print(f' my name is {name} and I am {age} years old')"
   ]
  },
  {
   "cell_type": "markdown",
   "metadata": {},
   "source": [
    "## Question 11 (Theory)\n",
    "\n",
    "Name 5 reserved words in Python that cannot be used as variable names.\n"
   ]
  },
  {
   "cell_type": "code",
   "execution_count": 21,
   "metadata": {},
   "outputs": [
    {
     "name": "stdout",
     "output_type": "stream",
     "text": [
      "def, True, False, if, else\n"
     ]
    }
   ],
   "source": [
    "# Your answer here\n",
    "print(\"def, True, False, if, else\")"
   ]
  },
  {
   "cell_type": "code",
   "execution_count": 22,
   "metadata": {},
   "outputs": [
    {
     "name": "stdout",
     "output_type": "stream",
     "text": [
      "the area of a circle is 78.55\n"
     ]
    }
   ],
   "source": [
    "pi = 3.142\n",
    "\n",
    "radius = int(input(\"what is the radius of the circle\"))\n",
    "\n",
    "squaredRadius = radius**2\n",
    "\n",
    "AreaOfCircle = pi* squaredRadius\n",
    "\n",
    "\n",
    "print(f'the area of a circle is {AreaOfCircle}')"
   ]
  },
  {
   "cell_type": "markdown",
   "metadata": {},
   "source": [
    "## Question 12 (Programming)\n",
    "\n",
    "Calculate the area of a rectangle with length 12 and width 8. Store the values in variables first.\n"
   ]
  },
  {
   "cell_type": "code",
   "execution_count": 25,
   "metadata": {},
   "outputs": [
    {
     "name": "stdout",
     "output_type": "stream",
     "text": [
      "96\n"
     ]
    }
   ],
   "source": [
    "# Your code here\n",
    "length = 12\n",
    "width = 8 \n",
    "\n",
    "AreaRectangle = length*width\n",
    "\n",
    "print(AreaRectangle)\n",
    "\n",
    "\n",
    "#This is a code to calculate the area of a rectangle tack so mycket"
   ]
  },
  {
   "cell_type": "markdown",
   "metadata": {},
   "source": [
    "## Question 13 (Programming)\n",
    "\n",
    "Use multiple assignment to assign the values 10, 20, and 30 to variables a, b, and c respectively.\n"
   ]
  },
  {
   "cell_type": "code",
   "execution_count": 26,
   "metadata": {},
   "outputs": [
    {
     "name": "stdout",
     "output_type": "stream",
     "text": [
      " these are the values of my variable 10, 20, and 30\n"
     ]
    }
   ],
   "source": [
    "# Your code here\n",
    "a,b,c = 10, 20, 30 \n",
    "\n",
    "\n",
    "print(f' these are the values of my variable {a}, {b}, and {c}')"
   ]
  },
  {
   "cell_type": "markdown",
   "metadata": {},
   "source": [
    "## Question 14 (Programming)\n",
    "\n",
    "Swap the values of two variables x and y using multiple assignment. Start with x=5 and y=10.\n"
   ]
  },
  {
   "cell_type": "code",
   "execution_count": 27,
   "metadata": {},
   "outputs": [
    {
     "name": "stdout",
     "output_type": "stream",
     "text": [
      "10 5\n"
     ]
    }
   ],
   "source": [
    "# Your code here\n",
    "x = 5\n",
    "y= 10 \n",
    "\n",
    "\n",
    "x,y = y,x\n",
    "\n",
    "\n",
    "print (x, y)"
   ]
  },
  {
   "cell_type": "markdown",
   "metadata": {},
   "source": [
    "## Question 15 (Programming)\n",
    "\n",
    "Write a conditional statement that checks if a number is positive, negative, or zero. Test with the number -5.\n"
   ]
  },
  {
   "cell_type": "code",
   "execution_count": 30,
   "metadata": {},
   "outputs": [
    {
     "name": "stdout",
     "output_type": "stream",
     "text": [
      "I am sure this is zero then\n"
     ]
    }
   ],
   "source": [
    "# Your code here\n",
    "\n",
    "number = int(input(\"Enter a number\"))\n",
    "\n",
    "if (number>0):\n",
    "    print(\"this is a positive number\")\n",
    "elif (number < 0):\n",
    "    print(\"This must be a negative number\")\n",
    "else:\n",
    "    print(\"I am sure this is zero then\")"
   ]
  },
  {
   "cell_type": "code",
   "execution_count": 32,
   "metadata": {},
   "outputs": [
    {
     "name": "stdout",
     "output_type": "stream",
     "text": [
      "Even numer here we go \n"
     ]
    }
   ],
   "source": [
    "evenni =int(input(\"Enter a number for checking\"))\n",
    "\n",
    "if evenni%2 == 0:\n",
    "    print(\"Even numer here we go \")\n",
    "else:\n",
    "    print(\"then you are odd number\") "
   ]
  },
  {
   "cell_type": "code",
   "execution_count": 38,
   "metadata": {},
   "outputs": [
    {
     "name": "stdout",
     "output_type": "stream",
     "text": [
      "this number is divisible by 2 and three\n"
     ]
    }
   ],
   "source": [
    "#Check if a number is divisble by 2 and 3\n",
    "obed = int(input (\"Enter a number \"))\n",
    "\n",
    "if (obed%2==0 and obed%3 == 0):\n",
    "    print(\"this number is divisible by 2 and three\")\n",
    "elif( obed%2==0 and obed%3 != 0):\n",
    "    print(\"number is divisible by only 2 \")\n",
    "elif(obed%2 != 0 and obed %3 ==0):\n",
    "    print(\"number is divisible by only 3\")\n",
    "else:\n",
    "    print(\"number is neigher divisible by 2 and 3\")"
   ]
  },
  {
   "cell_type": "code",
   "execution_count": 41,
   "metadata": {},
   "outputs": [
    {
     "name": "stdout",
     "output_type": "stream",
     "text": [
      "[7, 9, 1]\n",
      "9\n",
      "1\n"
     ]
    }
   ],
   "source": [
    "threenum = []\n",
    "\n",
    "for i in range (3):\n",
    "    digits = int(input(f\"enter the {i} number\"))\n",
    "    threenum.append(digits)\n",
    "\n",
    "print(threenum)\n",
    "\n",
    "print(max(threenum))\n",
    "print(min(threenum))\n",
    "\n",
    "\n",
    "\n",
    "\n"
   ]
  },
  {
   "cell_type": "code",
   "execution_count": 6,
   "metadata": {},
   "outputs": [
    {
     "name": "stdout",
     "output_type": "stream",
     "text": [
      "[]\n",
      "[2, 4, 8]\n",
      "2\n"
     ]
    }
   ],
   "source": [
    "threenum = [2,4,8]\n",
    "\n",
    "odd = [n for n in threenum if n%2 ==1]\n",
    "even = [n for n in threenum  if n%2 ==0]\n",
    "print(odd)\n",
    "print(even)\n",
    "\n",
    "if odd: \n",
    "    for i in odd :\n",
    "        if i == max(odd):\n",
    "            print (i)\n",
    "\n",
    "else:\n",
    "    print(min(even))"
   ]
  },
  {
   "cell_type": "markdown",
   "metadata": {},
   "source": [
    "## Question 16 (Programming)\n",
    "\n",
    "Write a program that checks if a number is divisible by both 3 and 5. Test with the number 15.\n"
   ]
  },
  {
   "cell_type": "code",
   "execution_count": 9,
   "metadata": {},
   "outputs": [
    {
     "name": "stdout",
     "output_type": "stream",
     "text": [
      " this number can only be divisible by 3 and not 5\n"
     ]
    }
   ],
   "source": [
    "# Your code here\n",
    "numerical = int(input (\"Enter your number\") )\n",
    "\n",
    "if (numerical%3 ==0 and numerical%5==0 ):\n",
    "    print(\"this number can be divisible by 3 and 5\")\n",
    "elif (numerical%3 ==0 and numerical%5!=0 ):\n",
    "    print(\" this number can only be divisible by 3 and not 5\")\n",
    "elif(numerical%5 == 0 and numerical%3 != 0):\n",
    "    print(\"this number can be divisible by 5 only\")\n",
    "else:\n",
    "    print(\"this number is not divisible by 5 or 3 , maybe try something different\")"
   ]
  },
  {
   "cell_type": "code",
   "execution_count": 2,
   "metadata": {},
   "outputs": [
    {
     "name": "stdout",
     "output_type": "stream",
     "text": [
      "mininuim is 6\n"
     ]
    }
   ],
   "source": [
    "p,q = 6, 7\n",
    "\n",
    "if p<q:\n",
    "    print(f'mininuim is {p}')\n",
    "else:\n",
    "    print(f'minimum is {q}')"
   ]
  },
  {
   "cell_type": "markdown",
   "metadata": {},
   "source": [
    "## Question 17 (Programming)\n",
    "\n",
    "Create a nested conditional that checks: if a number is even, check if it's also greater than 10. Test with the number 12.\n"
   ]
  },
  {
   "cell_type": "code",
   "execution_count": null,
   "metadata": {},
   "outputs": [],
   "source": [
    "# Your code here\n",
    "checker = 8\n",
    "\n",
    "if ()"
   ]
  },
  {
   "cell_type": "markdown",
   "metadata": {},
   "source": [
    "## Question 18 (Programming)\n",
    "\n",
    "Write a program using elif to determine letter grades: A (90-100), B (80-89), C (70-79), F (below 70). Test with score 85.\n"
   ]
  },
  {
   "cell_type": "code",
   "execution_count": null,
   "metadata": {},
   "outputs": [],
   "source": [
    "# Your code here\n"
   ]
  },
  {
   "cell_type": "markdown",
   "metadata": {},
   "source": [
    "## Question 19 (Programming)\n",
    "\n",
    "Among three numbers 7, 12, and 9, write a program that prints the largest odd number. If none is odd, print the smallest number.\n"
   ]
  },
  {
   "cell_type": "code",
   "execution_count": null,
   "metadata": {},
   "outputs": [],
   "source": [
    "# Your code here\n"
   ]
  },
  {
   "cell_type": "markdown",
   "metadata": {},
   "source": [
    "## Question 20 (Programming)\n",
    "\n",
    "Use a conditional expression to find the maximum of two numbers 25 and 18.\n"
   ]
  },
  {
   "cell_type": "code",
   "execution_count": null,
   "metadata": {},
   "outputs": [],
   "source": [
    "# Your code here\n"
   ]
  },
  {
   "cell_type": "markdown",
   "metadata": {},
   "source": [
    "## Question 21 (Programming)\n",
    "\n",
    "Create a string variable with your favorite color and print it 3 times using the \\* operator.\n"
   ]
  },
  {
   "cell_type": "code",
   "execution_count": null,
   "metadata": {},
   "outputs": [],
   "source": [
    "# Your code here\n"
   ]
  },
  {
   "cell_type": "markdown",
   "metadata": {},
   "source": [
    "## Question 22 (Programming)\n",
    "\n",
    "Concatenate the strings \"Hello\" and \"World\" with a space in between using the + operator.\n"
   ]
  },
  {
   "cell_type": "code",
   "execution_count": null,
   "metadata": {},
   "outputs": [],
   "source": [
    "# Your code here\n"
   ]
  },
  {
   "cell_type": "markdown",
   "metadata": {},
   "source": [
    "## Question 23 (Programming)\n",
    "\n",
    "Find the length of the string \"Programming\".\n"
   ]
  },
  {
   "cell_type": "code",
   "execution_count": null,
   "metadata": {},
   "outputs": [],
   "source": [
    "# Your code here\n"
   ]
  },
  {
   "cell_type": "markdown",
   "metadata": {},
   "source": [
    "## Question 24 (Programming)\n",
    "\n",
    "Access the 4th character of the string \"Python\" (remember indexing starts at 0).\n"
   ]
  },
  {
   "cell_type": "code",
   "execution_count": null,
   "metadata": {},
   "outputs": [],
   "source": [
    "# Your code here\n"
   ]
  },
  {
   "cell_type": "markdown",
   "metadata": {},
   "source": [
    "## Question 25 (Programming)\n",
    "\n",
    "Extract the substring \"gram\" from \"Programming\" using slicing.\n"
   ]
  },
  {
   "cell_type": "code",
   "execution_count": null,
   "metadata": {},
   "outputs": [],
   "source": [
    "# Your code here\n"
   ]
  },
  {
   "cell_type": "markdown",
   "metadata": {},
   "source": [
    "## Question 26 (Programming)\n",
    "\n",
    "From the string \"0123456789\", extract every other character starting from index 0.\n"
   ]
  },
  {
   "cell_type": "code",
   "execution_count": null,
   "metadata": {},
   "outputs": [],
   "source": [
    "# Your code here\n"
   ]
  },
  {
   "cell_type": "markdown",
   "metadata": {},
   "source": [
    "## Question 27 (Programming)\n",
    "\n",
    "Convert the string \"123\" to an integer and multiply it by 2.\n"
   ]
  },
  {
   "cell_type": "code",
   "execution_count": null,
   "metadata": {},
   "outputs": [],
   "source": [
    "# Your code here\n"
   ]
  },
  {
   "cell_type": "markdown",
   "metadata": {},
   "source": [
    "## Question 28 (Programming)\n",
    "\n",
    "Convert the float 45.67 to a string and repeat it twice.\n"
   ]
  },
  {
   "cell_type": "code",
   "execution_count": null,
   "metadata": {},
   "outputs": [],
   "source": [
    "# Your code here\n"
   ]
  },
  {
   "cell_type": "markdown",
   "metadata": {},
   "source": [
    "## Question 29 (Theory)\n",
    "\n",
    "What is the difference between using commas and plus operators in print statements? Give an example of each.\n"
   ]
  },
  {
   "cell_type": "code",
   "execution_count": null,
   "metadata": {},
   "outputs": [],
   "source": [
    "# Your answer and examples here\n"
   ]
  },
  {
   "cell_type": "markdown",
   "metadata": {},
   "source": [
    "## Question 30 (Programming)\n",
    "\n",
    "Print \"The answer is 42\" using both comma separation and string concatenation methods.\n"
   ]
  },
  {
   "cell_type": "code",
   "execution_count": null,
   "metadata": {},
   "outputs": [],
   "source": [
    "# Your code here\n"
   ]
  },
  {
   "cell_type": "markdown",
   "metadata": {},
   "source": [
    "## Question 31 (Programming)\n",
    "\n",
    "Write a program that calculates the volume of a sphere with radius 5. Use pi = 3.14159. Formula: (4/3) _ pi _ r³\n"
   ]
  },
  {
   "cell_type": "code",
   "execution_count": null,
   "metadata": {},
   "outputs": [],
   "source": [
    "# Your code here\n"
   ]
  },
  {
   "cell_type": "markdown",
   "metadata": {},
   "source": [
    "## Question 32 (Programming)\n",
    "\n",
    "Create a program that checks if a year is a leap year. A year is leap if it's divisible by 4 but not by 100, OR divisible by 400. Test with 2024.\n"
   ]
  },
  {
   "cell_type": "code",
   "execution_count": null,
   "metadata": {},
   "outputs": [],
   "source": [
    "# Your code here\n"
   ]
  },
  {
   "cell_type": "markdown",
   "metadata": {},
   "source": [
    "## Question 33 (Theory)\n",
    "\n",
    "Explain what happens when you divide two integers in Python 3. How is this different from floor division?\n"
   ]
  },
  {
   "cell_type": "code",
   "execution_count": null,
   "metadata": {},
   "outputs": [],
   "source": [
    "# Your explanation and examples here\n"
   ]
  },
  {
   "cell_type": "markdown",
   "metadata": {},
   "source": [
    "## Question 34 (Programming)\n",
    "\n",
    "Demonstrate the difference between 7/3 and 7//3.\n"
   ]
  },
  {
   "cell_type": "code",
   "execution_count": null,
   "metadata": {},
   "outputs": [],
   "source": [
    "# Your code here\n"
   ]
  },
  {
   "cell_type": "markdown",
   "metadata": {},
   "source": [
    "## Question 35 (Programming)\n",
    "\n",
    "Write a program that converts temperature from Celsius to Fahrenheit. Formula: F = (9/5) \\* C + 32. Test with 25°C.\n"
   ]
  },
  {
   "cell_type": "code",
   "execution_count": null,
   "metadata": {},
   "outputs": [],
   "source": [
    "# Your code here\n"
   ]
  },
  {
   "cell_type": "markdown",
   "metadata": {},
   "source": [
    "## Question 36 (Programming)\n",
    "\n",
    "Create variables for three test scores and calculate their average. Print the result with appropriate labeling.\n"
   ]
  },
  {
   "cell_type": "code",
   "execution_count": null,
   "metadata": {},
   "outputs": [],
   "source": [
    "# Your code here\n"
   ]
  },
  {
   "cell_type": "markdown",
   "metadata": {},
   "source": [
    "## Question 37 (Programming)\n",
    "\n",
    "Write a program that determines if a number is a perfect square. Test with 16 and 15.\n"
   ]
  },
  {
   "cell_type": "code",
   "execution_count": null,
   "metadata": {},
   "outputs": [],
   "source": [
    "# Your code here\n"
   ]
  },
  {
   "cell_type": "markdown",
   "metadata": {},
   "source": [
    "## Question 38 (Programming)\n",
    "\n",
    "Extract the first 3 and last 3 characters from the string \"Hello World\".\n"
   ]
  },
  {
   "cell_type": "code",
   "execution_count": null,
   "metadata": {},
   "outputs": [],
   "source": [
    "# Your code here\n"
   ]
  },
  {
   "cell_type": "markdown",
   "metadata": {},
   "source": [
    "## Question 39 (Programming)\n",
    "\n",
    "Write a program that checks if a string has an even or odd number of characters. Test with \"Python\".\n"
   ]
  },
  {
   "cell_type": "code",
   "execution_count": null,
   "metadata": {},
   "outputs": [],
   "source": [
    "# Your code here\n"
   ]
  },
  {
   "cell_type": "markdown",
   "metadata": {},
   "source": [
    "## Question 40 (Programming)\n",
    "\n",
    "Create a program that simulates a simple calculator. Take two numbers and an operation (+, -, \\*, /) and display the result.\n"
   ]
  },
  {
   "cell_type": "code",
   "execution_count": null,
   "metadata": {},
   "outputs": [],
   "source": [
    "# Your code here\n"
   ]
  },
  {
   "cell_type": "markdown",
   "metadata": {},
   "source": [
    "## Question 41 (Theory)\n",
    "\n",
    "What would happen if you try to access s[10] where s = \"hello\"? Why?\n"
   ]
  },
  {
   "cell_type": "code",
   "execution_count": null,
   "metadata": {},
   "outputs": [],
   "source": [
    "# Your explanation here\n"
   ]
  },
  {
   "cell_type": "markdown",
   "metadata": {},
   "source": [
    "## Question 42 (Programming)\n",
    "\n",
    "Write a program that checks if a number is divisible by 2, 3, or 5. Print appropriate messages for each case.\n"
   ]
  },
  {
   "cell_type": "code",
   "execution_count": null,
   "metadata": {},
   "outputs": [],
   "source": [
    "# Your code here\n"
   ]
  },
  {
   "cell_type": "markdown",
   "metadata": {},
   "source": [
    "## Question 43 (Programming)\n",
    "\n",
    "Use boolean conversion to check what bool(\"\"), bool(0), bool(\"hello\"), and bool(42) return.\n"
   ]
  },
  {
   "cell_type": "code",
   "execution_count": null,
   "metadata": {},
   "outputs": [],
   "source": [
    "# Your code here\n"
   ]
  },
  {
   "cell_type": "markdown",
   "metadata": {},
   "source": [
    "## Question 44 (Programming)\n",
    "\n",
    "Write a program that finds the middle character(s) of a string. If the length is odd, print the middle character. If even, print the two middle characters. Test with \"Python\" and \"Code\".\n"
   ]
  },
  {
   "cell_type": "code",
   "execution_count": null,
   "metadata": {},
   "outputs": [],
   "source": [
    "# Your code here\n"
   ]
  },
  {
   "cell_type": "markdown",
   "metadata": {},
   "source": [
    "## Question 45 (Programming)\n",
    "\n",
    "Create a program that calculates compound interest. Formula: A = P(1 + r)^t where P=1000, r=0.05, t=3.\n"
   ]
  },
  {
   "cell_type": "code",
   "execution_count": null,
   "metadata": {},
   "outputs": [],
   "source": [
    "# Your code here\n"
   ]
  },
  {
   "cell_type": "markdown",
   "metadata": {},
   "source": [
    "## Question 46 (Programming)\n",
    "\n",
    "Write a program that determines the quadrant of a point (x, y) in a coordinate system. Test with point (3, -4).\n"
   ]
  },
  {
   "cell_type": "code",
   "execution_count": null,
   "metadata": {},
   "outputs": [],
   "source": [
    "# Your code here\n"
   ]
  },
  {
   "cell_type": "markdown",
   "metadata": {},
   "source": [
    "## Question 47 (Theory)\n",
    "\n",
    "Explain operator precedence in Python. What is the order of operations for arithmetic operators?\n"
   ]
  },
  {
   "cell_type": "code",
   "execution_count": null,
   "metadata": {},
   "outputs": [],
   "source": [
    "# Your explanation here\n"
   ]
  },
  {
   "cell_type": "markdown",
   "metadata": {},
   "source": [
    "## Question 48 (Programming)\n",
    "\n",
    "Demonstrate operator precedence with the expression: 2 + 3 \\* 4 \\*\\* 2. Show the step-by-step evaluation.\n"
   ]
  },
  {
   "cell_type": "code",
   "execution_count": null,
   "metadata": {},
   "outputs": [],
   "source": [
    "# Your code and explanation here\n"
   ]
  },
  {
   "cell_type": "markdown",
   "metadata": {},
   "source": [
    "## Question 49 (Programming)\n",
    "\n",
    "Write a program that takes a 4-digit number and prints each digit separately. For example, 1234 should print 1, 2, 3, 4.\n"
   ]
  },
  {
   "cell_type": "code",
   "execution_count": null,
   "metadata": {},
   "outputs": [],
   "source": [
    "# Your code here\n"
   ]
  },
  {
   "cell_type": "markdown",
   "metadata": {},
   "source": [
    "## Question 50 (Programming)\n",
    "\n",
    "Create a comprehensive program that:\n",
    "\n",
    "1. Takes three numbers as input (you can assign them as variables)\n",
    "2. Finds and prints the largest and smallest\n",
    "3. Calculates their sum and average\n",
    "4. Determines if each number is even or odd\n",
    "5. Prints all results in a formatted manner\n"
   ]
  },
  {
   "cell_type": "code",
   "execution_count": null,
   "metadata": {},
   "outputs": [],
   "source": [
    "# Your comprehensive program here\n"
   ]
  },
  {
   "cell_type": "markdown",
   "metadata": {},
   "source": [
    "---\n",
    "\n",
    "## Congratulations!\n",
    "\n",
    "You have completed all 50 practice questions covering the fundamentals of Python programming. These questions covered:\n",
    "\n",
    "- **Basic Python concepts**: print statements, expressions, objects\n",
    "- **Data types**: int, float, bool, None, strings\n",
    "- **Operators**: arithmetic, comparison, logical\n",
    "- **Variables**: assignment, naming rules, multiple assignment\n",
    "- **Control structures**: if/elif/else statements, conditional expressions\n",
    "- **String operations**: indexing, slicing, concatenation\n",
    "- **Type conversion**: int(), str(), float(), bool()\n",
    "- **Problem solving**: combining multiple concepts\n",
    "\n",
    "Keep practicing to strengthen your Python programming skills!\n"
   ]
  }
 ],
 "metadata": {
  "kernelspec": {
   "display_name": "base",
   "language": "python",
   "name": "python3"
  },
  "language_info": {
   "codemirror_mode": {
    "name": "ipython",
    "version": 3
   },
   "file_extension": ".py",
   "mimetype": "text/x-python",
   "name": "python",
   "nbconvert_exporter": "python",
   "pygments_lexer": "ipython3",
   "version": "3.11.5"
  }
 },
 "nbformat": 4,
 "nbformat_minor": 4
}

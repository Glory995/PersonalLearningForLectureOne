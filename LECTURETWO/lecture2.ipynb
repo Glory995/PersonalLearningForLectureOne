{
 "cells": [
  {
   "cell_type": "markdown",
   "id": "6101bfda",
   "metadata": {
    "editable": true,
    "slideshow": {
     "slide_type": "slide"
    },
    "tags": []
   },
   "source": [
    "### <center>Python a Gateway to Machine Learning (DT8051)</center>\n",
    "\n",
    "# <center> Lecture 2: Loops, Functions, and Some Data Structures </center>\n",
    "<!--  Functions, Data Structures, and Recursion -->\n",
    "\n",
    "### <center> Halmstad University </center>\n",
    "### <center>September 2025</center>"
   ]
  },
  {
   "cell_type": "markdown",
   "id": "a4165849",
   "metadata": {
    "editable": true,
    "slideshow": {
     "slide_type": "slide"
    },
    "tags": []
   },
   "source": [
    "# <center> In this Lecture </center> \n",
    "\n",
    "- ## Python loops (`while`, `for`)\n",
    "- ## Python functions\n",
    "- ## Some Python data structures\n",
    "- ## Mutability"
   ]
  },
  {
   "cell_type": "markdown",
   "id": "89423658-f8f6-4dbd-97c4-28053b3e3454",
   "metadata": {
    "extensions": {
     "jupyter_dashboards": {
      "activeView": "grid_default",
      "views": {
       "grid_default": {
        "col": null,
        "height": 2,
        "hidden": true,
        "locked": true,
        "row": null,
        "width": 2
       }
      }
     }
    },
    "slideshow": {
     "slide_type": "slide"
    }
   },
   "source": [
    "# <center> Formatted Printing </center> \n",
    "- ## Formatted printing uses a f-string\n",
    "- ## To make an f-string put an _f_ before the first quotation character\n",
    "- ## In a formatted string literal you can print values withn the text without converting them to string\n",
    "- ## To do so put the value between curly braces, i.e. _{value}_\n",
    "- ## Example:"
   ]
  },
  {
   "cell_type": "code",
   "execution_count": 5,
   "id": "8166ce59-d2af-4747-8138-f80c2b6603bd",
   "metadata": {
    "extensions": {
     "jupyter_dashboards": {
      "activeView": "grid_default",
      "views": {
       "grid_default": {
        "col": null,
        "height": 2,
        "hidden": true,
        "locked": true,
        "row": null,
        "width": 2
       }
      }
     }
    }
   },
   "outputs": [
    {
     "name": "stdout",
     "output_type": "stream",
     "text": [
      "Pi is 3.14\n"
     ]
    }
   ],
   "source": [
    "c = 3.14\n",
    "print(f\"Pi is {c}\") # Put the letter f before the quotation and put variables inside curly braces"
   ]
  },
  {
   "cell_type": "markdown",
   "id": "7fbe2de2-6b9b-405d-9410-7e80f9e66009",
   "metadata": {
    "extensions": {
     "jupyter_dashboards": {
      "activeView": "grid_default",
      "views": {
       "grid_default": {
        "col": null,
        "height": 2,
        "hidden": true,
        "locked": true,
        "row": null,
        "width": 2
       }
      }
     }
    },
    "slideshow": {
     "slide_type": "slide"
    }
   },
   "source": [
    "# <center> Formatted Printing </center> \n",
    "\n",
    "- ## You can specify how a value is printed via a format specifier\n",
    "- ## The format specifier must be put after the value in the following format: _{value:specifier}_\n",
    "- ## For decimal numbers you can write the specifier:  _{decimal_value:.precision}_ \n",
    "- ## Another way is to specify the digits after zero: _{decimal_value:.digitsf}_ \n",
    "- ## To learn more about format specifiers visit: https://docs.python.org/3/reference/lexical_analysis.html#f-strings\n",
    "- ## Examples:"
   ]
  },
  {
   "cell_type": "code",
   "execution_count": 1,
   "id": "6b2d7b45-fbb5-469c-9740-aff50c76b8e6",
   "metadata": {
    "extensions": {
     "jupyter_dashboards": {
      "activeView": "grid_default",
      "views": {
       "grid_default": {
        "col": null,
        "height": 2,
        "hidden": true,
        "locked": true,
        "row": null,
        "width": 2
       }
      }
     }
    }
   },
   "outputs": [
    {
     "name": "stdout",
     "output_type": "stream",
     "text": [
      "4/3 is \"1.3333333333333333\"\n",
      "4/3 is \"1.3\"\n",
      "4/3 is \"1.33\"\n"
     ]
    }
   ],
   "source": [
    "print(f'4/3 is \"{4/3}\"')\n",
    "print(f'4/3 is \"{4/3:.2}\"')\n",
    "print(f'4/3 is \"{4/3:.2f}\"')"
   ]
  },
  {
   "cell_type": "markdown",
   "id": "4fe337e7-0404-4c71-ae48-0fa9db0c846c",
   "metadata": {
    "extensions": {
     "jupyter_dashboards": {
      "activeView": "grid_default",
      "views": {
       "grid_default": {
        "col": null,
        "height": 2,
        "hidden": true,
        "locked": true,
        "row": null,
        "width": 2
       }
      }
     }
    },
    "slideshow": {
     "slide_type": "slide"
    }
   },
   "source": [
    "# <center> The input() function </center> \n",
    "\n",
    "## With input you can take input strings from the user"
   ]
  },
  {
   "cell_type": "code",
   "execution_count": 7,
   "id": "0d2c44e0-11aa-4db1-b11a-6e76a97dcb02",
   "metadata": {
    "extensions": {
     "jupyter_dashboards": {
      "activeView": "grid_default",
      "views": {
       "grid_default": {
        "col": null,
        "height": 2,
        "hidden": true,
        "locked": true,
        "row": null,
        "width": 2
       }
      }
     }
    }
   },
   "outputs": [
    {
     "name": "stdin",
     "output_type": "stream",
     "text": [
      "What is your name?  Hamid\n"
     ]
    },
    {
     "name": "stdout",
     "output_type": "stream",
     "text": [
      "You wrote that your name is Hamid.\n"
     ]
    }
   ],
   "source": [
    "name = input(\"What is your name? \")\n",
    "print(f\"You wrote that your name is {name}.\")"
   ]
  },
  {
   "cell_type": "markdown",
   "id": "e48659b3-e7ed-4fce-8780-de8df890f1e6",
   "metadata": {
    "extensions": {
     "jupyter_dashboards": {
      "activeView": "grid_default",
      "views": {
       "grid_default": {
        "col": null,
        "height": 2,
        "hidden": true,
        "locked": true,
        "row": null,
        "width": 2
       }
      }
     }
    },
    "slideshow": {
     "slide_type": "fragment"
    }
   },
   "source": [
    "## Example: A program to calculate the BMI of the user:"
   ]
  },
  {
   "cell_type": "code",
   "execution_count": 2,
   "id": "9842bd2e-2028-4c94-899b-01e020f9d8c9",
   "metadata": {
    "extensions": {
     "jupyter_dashboards": {
      "activeView": "grid_default",
      "views": {
       "grid_default": {
        "col": null,
        "height": 2,
        "hidden": true,
        "locked": true,
        "row": null,
        "width": 2
       }
      }
     }
    },
    "slideshow": {
     "slide_type": "-"
    }
   },
   "outputs": [
    {
     "name": "stdout",
     "output_type": "stream",
     "text": [
      "How much do you weigh? (in kg) 100\n",
      "How tall are you? (in meters) 1.8\n",
      "Your body mass index is 30.864197530864196.\n"
     ]
    }
   ],
   "source": [
    "weight = input(\"How much do you weigh? (in kg) \")\n",
    "height = input(\"How tall are you? (in meters) \")\n",
    "print(f\"Your body mass index is {float(weight)/float(height)**2}.\") # You need to change the type to int to make calculations"
   ]
  },
  {
   "cell_type": "markdown",
   "id": "52058112-b93d-40ff-813e-c44bf7a8d295",
   "metadata": {
    "extensions": {
     "jupyter_dashboards": {
      "activeView": "grid_default",
      "views": {
       "grid_default": {
        "col": null,
        "height": 2,
        "hidden": true,
        "locked": true,
        "row": null,
        "width": 2
       }
      }
     }
    },
    "slideshow": {
     "slide_type": "slide"
    }
   },
   "source": [
    "# <center> While loop </center> \n",
    "\n",
    "- ## Similar to other programming languages while loops repeat a block of code while a boolean condition holds\n",
    "### while _boolean expression_ :\n",
    "     indented code block"
   ]
  },
  {
   "cell_type": "markdown",
   "id": "8054f3f2-c7e8-4ba9-9ddf-31e9c2fe5725",
   "metadata": {
    "extensions": {
     "jupyter_dashboards": {
      "activeView": "grid_default",
      "views": {
       "grid_default": {
        "col": null,
        "height": 2,
        "hidden": true,
        "locked": true,
        "row": null,
        "width": 2
       }
      }
     }
    },
    "slideshow": {
     "slide_type": "fragment"
    }
   },
   "source": [
    "- ## Example: Squaring an integer without using the power or multiplication operators:"
   ]
  },
  {
   "cell_type": "code",
   "execution_count": 1,
   "id": "d24026e3-59b0-4412-8711-8924609f2a20",
   "metadata": {
    "extensions": {
     "jupyter_dashboards": {
      "activeView": "grid_default",
      "views": {
       "grid_default": {
        "col": null,
        "height": 2,
        "hidden": true,
        "locked": true,
        "row": null,
        "width": 2
       }
      }
     }
    }
   },
   "outputs": [
    {
     "name": "stdout",
     "output_type": "stream",
     "text": [
      "Enter an integer: 5\n",
      "5*5=25\n"
     ]
    }
   ],
   "source": [
    "x = int(input(\"Enter an integer: \"))\n",
    "res = 0\n",
    "num_iters = 0\n",
    "while num_iters < x:\n",
    "    res = res + x\n",
    "    num_iters = num_iters + 1\n",
    "print(f\"{x}*{x}={res}\")"
   ]
  },
  {
   "cell_type": "markdown",
   "id": "104ac20a-5df4-4001-9190-735e9774c818",
   "metadata": {
    "extensions": {
     "jupyter_dashboards": {
      "activeView": "grid_default",
      "views": {
       "grid_default": {
        "col": null,
        "height": 2,
        "hidden": true,
        "locked": true,
        "row": null,
        "width": 2
       }
      }
     }
    },
    "slideshow": {
     "slide_type": "slide"
    }
   },
   "source": [
    "# <center> While loop </center> \n",
    "\n",
    "- ## Find the first positive integer that is divisible by 8 and 18"
   ]
  },
  {
   "cell_type": "code",
   "execution_count": 8,
   "id": "3b6bb05b-d99a-4e5f-ae55-1c2bde62810f",
   "metadata": {
    "extensions": {
     "jupyter_dashboards": {
      "activeView": "grid_default",
      "views": {
       "grid_default": {
        "col": null,
        "height": 2,
        "hidden": true,
        "locked": true,
        "row": null,
        "width": 2
       }
      }
     }
    }
   },
   "outputs": [],
   "source": [
    "n = 1\n",
    "\n",
    "while True:\n",
    "    if n % 8 == 0 and n % 18 == 0:\n",
    "        break\n",
    "    n = n + 1\n",
    "    \n",
    "print(f\"{n} is divisible by both 8 and 18\")"
   ]
  },
  {
   "cell_type": "markdown",
   "id": "3ae01833-0de2-4e45-a10d-76b7e0517fd6",
   "metadata": {
    "extensions": {
     "jupyter_dashboards": {
      "activeView": "grid_default",
      "views": {
       "grid_default": {
        "col": null,
        "height": 2,
        "hidden": true,
        "locked": true,
        "row": null,
        "width": 2
       }
      }
     }
    },
    "slideshow": {
     "slide_type": "slide"
    }
   },
   "source": [
    "# <center> For loop </center> \n",
    "\n",
    "### for _variable_ in _sequence_ :\n",
    "    indented code block"
   ]
  },
  {
   "cell_type": "code",
   "execution_count": 2,
   "id": "f1c46822-361e-4c4f-9908-0376381a9e16",
   "metadata": {
    "extensions": {
     "jupyter_dashboards": {
      "activeView": "grid_default",
      "views": {
       "grid_default": {
        "col": null,
        "height": 2,
        "hidden": true,
        "locked": true,
        "row": null,
        "width": 2
       }
      }
     }
    }
   },
   "outputs": [
    {
     "name": "stdout",
     "output_type": "stream",
     "text": [
      "1\n",
      "3\n",
      "5\n",
      "7\n"
     ]
    }
   ],
   "source": [
    "for i in (1,3,5,7):\n",
    "    print(i)"
   ]
  },
  {
   "cell_type": "code",
   "execution_count": 3,
   "id": "d3d7533f-cbe6-4ccc-afa0-83e4f5644bff",
   "metadata": {
    "extensions": {
     "jupyter_dashboards": {
      "activeView": "grid_default",
      "views": {
       "grid_default": {
        "col": null,
        "height": 2,
        "hidden": true,
        "locked": true,
        "row": null,
        "width": 2
       }
      }
     }
    }
   },
   "outputs": [
    {
     "name": "stdout",
     "output_type": "stream",
     "text": [
      "26\n"
     ]
    }
   ],
   "source": [
    "total = 0\n",
    "for c in \"5678\":\n",
    "    total = total + int(c)\n",
    "print(total)"
   ]
  },
  {
   "cell_type": "code",
   "execution_count": 4,
   "id": "91ccabd6-e626-473e-a4e7-993968add19a",
   "metadata": {
    "extensions": {
     "jupyter_dashboards": {
      "activeView": "grid_default",
      "views": {
       "grid_default": {
        "col": null,
        "height": 2,
        "hidden": true,
        "locked": true,
        "row": null,
        "width": 2
       }
      }
     }
    }
   },
   "outputs": [
    {
     "name": "stdout",
     "output_type": "stream",
     "text": [
      "Hello World!\n",
      "Hello World!\n",
      "Hello World!\n"
     ]
    }
   ],
   "source": [
    "for i in range(3):\n",
    "    print(\"Hello World!\")"
   ]
  },
  {
   "cell_type": "markdown",
   "id": "e5978c48-e7be-4ad9-8c12-d0794f46df5f",
   "metadata": {
    "extensions": {
     "jupyter_dashboards": {
      "activeView": "grid_default",
      "views": {
       "grid_default": {
        "col": null,
        "height": 2,
        "hidden": true,
        "locked": true,
        "row": null,
        "width": 2
       }
      }
     }
    },
    "slideshow": {
     "slide_type": "slide"
    }
   },
   "source": [
    "# <center> The range function </center> \n",
    "\n",
    "### range(_start_,_stop_,_step_)\n",
    "\n",
    "- ## Creates a sequence of integers starting from _start_ ending before reaching _stop_ increasing by _step_ amounts\n",
    "- ## Only the _stop_ argument is mandatory. The defalut value for start is 0\n",
    "- ## If two arguments are given they will be start and stop and _step_ will be 1\n",
    "- ## Arguments are analogous to slicing arguments\n",
    "- ## Example:"
   ]
  },
  {
   "cell_type": "code",
   "execution_count": 8,
   "id": "f9d9acf6-6783-4171-9a8b-50f291881de1",
   "metadata": {
    "extensions": {
     "jupyter_dashboards": {
      "activeView": "grid_default",
      "views": {
       "grid_default": {
        "col": null,
        "height": 2,
        "hidden": true,
        "locked": true,
        "row": null,
        "width": 2
       }
      }
     }
    }
   },
   "outputs": [
    {
     "name": "stdout",
     "output_type": "stream",
     "text": [
      "1\n",
      "3\n",
      "5\n",
      "7\n"
     ]
    }
   ],
   "source": [
    "for i in range(1,8,2):\n",
    "    print(i)"
   ]
  },
  {
   "cell_type": "markdown",
   "id": "d3b57575-f12e-427c-81f6-18f24ce5d768",
   "metadata": {
    "extensions": {
     "jupyter_dashboards": {
      "activeView": "grid_default",
      "views": {
       "grid_default": {
        "col": null,
        "height": 2,
        "hidden": true,
        "locked": true,
        "row": null,
        "width": 2
       }
      }
     }
    },
    "slideshow": {
     "slide_type": "slide"
    }
   },
   "source": [
    "# <center> Nested loops </center> \n",
    "\n",
    "- ## You can have both nested _while_ loop and nested _for_ loop\n",
    "- ## The _break_ keyword only breaks inner loop and not the outer loops\n",
    "- ## You can also use the _continue_ keyword to skip the rest of current iteration in the inner loop\n",
    "- ## Example:\n",
    "\n"
   ]
  },
  {
   "cell_type": "code",
   "execution_count": 5,
   "id": "6ebfbd63-6a3a-4760-a423-0ee2b1e5117c",
   "metadata": {
    "extensions": {
     "jupyter_dashboards": {
      "activeView": "grid_default",
      "views": {
       "grid_default": {
        "col": null,
        "height": 2,
        "hidden": true,
        "locked": true,
        "row": null,
        "width": 2
       }
      }
     }
    }
   },
   "outputs": [
    {
     "name": "stdout",
     "output_type": "stream",
     "text": [
      "x\n",
      "xx\n",
      "xxx\n",
      "xxxx\n",
      "xxxxx\n",
      "xxxxxx\n",
      "xxxxxxx\n"
     ]
    }
   ],
   "source": [
    "n = 7\n",
    "for i in range(n):\n",
    "    s = \"\"\n",
    "    for j in range(i+1):\n",
    "        s = s + \"x\"\n",
    "    print(s)"
   ]
  },
  {
   "cell_type": "markdown",
   "id": "d6031c63-0fdb-4c8d-beab-c3470ecb67fa",
   "metadata": {
    "extensions": {
     "jupyter_dashboards": {
      "activeView": "grid_default",
      "views": {
       "grid_default": {
        "col": null,
        "height": 2,
        "hidden": true,
        "locked": true,
        "row": null,
        "width": 2
       }
      }
     }
    },
    "slideshow": {
     "slide_type": "slide"
    }
   },
   "source": [
    "# <center> Augmented assignments </center> \n",
    "\n",
    "- ## You can use augmented assignments with all arithmetic operators.\n",
    "- ## They include _+=_, _-=_, _*=_, _/=_, etc.\n",
    "- ## Example: Make a string that contains A, n times"
   ]
  },
  {
   "cell_type": "code",
   "execution_count": 6,
   "id": "a932d912-c451-43e8-af14-8e06f4492306",
   "metadata": {
    "extensions": {
     "jupyter_dashboards": {
      "activeView": "grid_default",
      "views": {
       "grid_default": {
        "col": null,
        "height": 2,
        "hidden": true,
        "locked": true,
        "row": null,
        "width": 2
       }
      }
     }
    }
   },
   "outputs": [
    {
     "name": "stdout",
     "output_type": "stream",
     "text": [
      "AAAAA\n"
     ]
    }
   ],
   "source": [
    "n = 5\n",
    "s = \"\"\n",
    "for i in range(n):\n",
    "    s += \"A\"\n",
    "print(s)"
   ]
  },
  {
   "cell_type": "markdown",
   "id": "6782a094",
   "metadata": {
    "slideshow": {
     "slide_type": "slide"
    }
   },
   "source": [
    "# <center> Functions in Python </center>\n",
    "\n",
    "- ## Similar to other programming languages, functions allow for reusability of your code\n",
    "\n",
    "### def _function name_ ( _list of parameters_ ):\n",
    "    function body"
   ]
  },
  {
   "cell_type": "code",
   "execution_count": 12,
   "id": "6da00ff9",
   "metadata": {},
   "outputs": [
    {
     "data": {
      "text/plain": [
       "6"
      ]
     },
     "execution_count": 12,
     "metadata": {},
     "output_type": "execute_result"
    }
   ],
   "source": [
    "def max_val(x,y):\n",
    "    if x>y:\n",
    "        return x\n",
    "    else:\n",
    "        return y\n",
    "    \n",
    "max_val(5,6)"
   ]
  },
  {
   "cell_type": "markdown",
   "id": "bc6d7ad2",
   "metadata": {
    "slideshow": {
     "slide_type": "slide"
    }
   },
   "source": [
    "# <center> Functions in Python </center>\n",
    "\n",
    "## Example: Define a function to find the square root of a number without using the power operator "
   ]
  },
  {
   "cell_type": "code",
   "execution_count": 9,
   "id": "61dc7274",
   "metadata": {},
   "outputs": [
    {
     "name": "stdout",
     "output_type": "stream",
     "text": [
      "3.8729095458984375\n",
      "None\n"
     ]
    }
   ],
   "source": [
    "def find_second_root (x, epsilon): # epsilon: error tolerance\n",
    "    if x<0:\n",
    "        return None\n",
    "    low = 0\n",
    "    high = x\n",
    "    root = (low+high)/2\n",
    "    while abs(x - root*root) > epsilon:\n",
    "        if root*root < x:\n",
    "            low = root\n",
    "        else:\n",
    "            high = root\n",
    "        root = (low+high)/2\n",
    "    return root\n",
    "\n",
    "print(find_second_root(15, 0.001))\n",
    "print(find_second_root(-1,0.001))"
   ]
  },
  {
   "cell_type": "markdown",
   "id": "0d4c470f",
   "metadata": {},
   "source": [
    "- ## None is a type with only one value (``None``) and we use it when there is no valid answer"
   ]
  },
  {
   "cell_type": "markdown",
   "id": "e9337bbc",
   "metadata": {
    "slideshow": {
     "slide_type": "slide"
    }
   },
   "source": [
    "# <center> Keyword Arguments </center>\n",
    "\n",
    "## Keyword arguments help readability of your code among other things"
   ]
  },
  {
   "cell_type": "code",
   "execution_count": 9,
   "id": "1a2847bc",
   "metadata": {},
   "outputs": [
    {
     "name": "stdout",
     "output_type": "stream",
     "text": [
      "Smith, John\n",
      "John Smith\n",
      "Ali, Muhammad\n",
      "Muhammad Ali\n"
     ]
    }
   ],
   "source": [
    "def print_name(first_name, last_name, reverse):\n",
    "    if reverse:\n",
    "        print(f\"{last_name}, {first_name}\")\n",
    "    else:\n",
    "        print(f\"{first_name} {last_name}\")\n",
    "        \n",
    "print_name(\"John\", \"Smith\", True)\n",
    "print_name(\"John\", \"Smith\", False)\n",
    "print_name(\"Muhammad\", reverse = True, last_name = \"Ali\")\n",
    "print_name(\"Muhammad\", \"Ali\", reverse = False)"
   ]
  },
  {
   "cell_type": "markdown",
   "id": "451dbb6d",
   "metadata": {
    "slideshow": {
     "slide_type": "slide"
    }
   },
   "source": [
    "# <center> Default Arguments </center>\n",
    "\n",
    "## In python you can have default arguments to simplify calling functions"
   ]
  },
  {
   "cell_type": "code",
   "execution_count": 12,
   "id": "e2ee0aba",
   "metadata": {},
   "outputs": [
    {
     "name": "stdout",
     "output_type": "stream",
     "text": [
      "Muhammad Ali\n",
      "Ali, Muhammad\n",
      "Smith, John\n"
     ]
    }
   ],
   "source": [
    "def print_name(first_name, last_name, reverse=False):\n",
    "    if reverse:\n",
    "        print(f\"{last_name}, {first_name}\")\n",
    "    else:\n",
    "        print(f\"{first_name} {last_name}\")\n",
    "\n",
    "print_name(\"Muhammad\", \"Ali\")\n",
    "print_name(\"Muhammad\", \"Ali\", True)\n",
    "print_name(\"John\", \"Smith\", reverse=True)"
   ]
  },
  {
   "cell_type": "markdown",
   "id": "8cec1c40",
   "metadata": {
    "slideshow": {
     "slide_type": "slide"
    }
   },
   "source": [
    "# <center> Local Variables </center>\n",
    "\n",
    "- ## Any variable defined in a function is a local variable, otherwise it is a global variable\n",
    "- ## Input parameters of a function are also local variables\n",
    "- ## There can be seperate local and global variables with the same name at the same time"
   ]
  },
  {
   "cell_type": "code",
   "execution_count": 11,
   "id": "57a098bc",
   "metadata": {},
   "outputs": [
    {
     "name": "stdout",
     "output_type": "stream",
     "text": [
      "x=4\n",
      "x=3\n",
      "y=5\n"
     ]
    }
   ],
   "source": [
    "def f(x): #This x is a local variable\n",
    "    y = 1 #This y is a local variable\n",
    "    x = x + y\n",
    "    print(f\"x={x}\")\n",
    "    \n",
    "x = 3 #This x is a global variable\n",
    "y = 5 #This y is a global variable\n",
    "f(x)\n",
    "print(f\"x={x}\")\n",
    "print(f\"y={y}\")"
   ]
  },
  {
   "cell_type": "markdown",
   "id": "78c3a555",
   "metadata": {
    "slideshow": {
     "slide_type": "slide"
    }
   },
   "source": [
    "# <center> Functions as objects </center>\n",
    "\n",
    "## Functions can be used as an input argument to other functions\n",
    "## This is called _Higher order programming_"
   ]
  },
  {
   "cell_type": "code",
   "execution_count": 10,
   "id": "f35eb4cc",
   "metadata": {},
   "outputs": [
    {
     "name": "stdout",
     "output_type": "stream",
     "text": [
      "9\n"
     ]
    }
   ],
   "source": [
    "def apply_function(a,f):\n",
    "    print(f(a))\n",
    "    \n",
    "def square(x):\n",
    "    return x*x\n",
    "\n",
    "apply_function(3,square)"
   ]
  },
  {
   "cell_type": "markdown",
   "id": "fb6cee87",
   "metadata": {},
   "source": [
    "## Lambda definition \n",
    "\n",
    "### lambda _input parameters_ : _expression to be returned_"
   ]
  },
  {
   "cell_type": "code",
   "execution_count": 4,
   "id": "9d1095d7",
   "metadata": {},
   "outputs": [
    {
     "name": "stdout",
     "output_type": "stream",
     "text": [
      "15\n"
     ]
    }
   ],
   "source": [
    "apply_function(3,lambda x : x*5)"
   ]
  },
  {
   "cell_type": "markdown",
   "id": "49e790ae",
   "metadata": {
    "slideshow": {
     "slide_type": "slide"
    }
   },
   "source": [
    "# <center> Methods </center>\n",
    "\n",
    "## Similar to other languages methods are member functions that are applied on an object with the dot operator"
   ]
  },
  {
   "cell_type": "code",
   "execution_count": 24,
   "id": "f1159543",
   "metadata": {},
   "outputs": [
    {
     "name": "stdout",
     "output_type": "stream",
     "text": [
      "John\n",
      "JOHN\n",
      "2\n"
     ]
    }
   ],
   "source": [
    "s = \"john\"\n",
    "print(s.capitalize())\n",
    "print(s.upper())\n",
    "print(s.find(\"h\"))"
   ]
  },
  {
   "cell_type": "markdown",
   "id": "5d98446a-8b86-4a37-9c24-bc7841ec7076",
   "metadata": {
    "slideshow": {
     "slide_type": "slide"
    }
   },
   "source": [
    "# <center> Data Structures in Python </center>\n",
    "\n",
    "- ## Sequence types:\n",
    "    - ### String \n",
    "    - ### Range \n",
    "    - ### Tuple \n",
    "    - ### List\n",
    "- ## Non-Sequence types:\n",
    "    - ### Set\n",
    "    - ### Dictionary\n",
    "    "
   ]
  },
  {
   "cell_type": "markdown",
   "id": "23b0a4e6-0435-4179-91ce-d11f180cae6f",
   "metadata": {
    "slideshow": {
     "slide_type": "slide"
    }
   },
   "source": [
    "# <center> Tuples </center>\n",
    "    \n",
    "## A tuple is a sequence of object elements\n",
    "### (_elem1_, _elem2_, _elem3_, ..., _elemN_)\n",
    "## To make a tuple with one element you need a comma after the element\n",
    "### (_elem_,)"
   ]
  },
  {
   "cell_type": "code",
   "execution_count": 6,
   "id": "2d31dd11-6dc9-4763-ab82-4c83e277c04f",
   "metadata": {
    "slideshow": {
     "slide_type": "-"
    }
   },
   "outputs": [
    {
     "name": "stdout",
     "output_type": "stream",
     "text": [
      "(1, 2, 3, 4)\n",
      "(1,)\n",
      "1\n",
      "()\n"
     ]
    }
   ],
   "source": [
    "a = (1,2,3,4)\n",
    "b = (1,) #tuple with only one item\n",
    "c = (1) #not a tuple, just the number 1\n",
    "d = ()\n",
    "print(a)\n",
    "print(b)\n",
    "print(c)\n",
    "print(d)"
   ]
  },
  {
   "cell_type": "markdown",
   "id": "a4b82597-165b-4037-b427-f2739323af1c",
   "metadata": {
    "slideshow": {
     "slide_type": "slide"
    }
   },
   "source": [
    "# <center> Tuples </center>\n",
    "\n",
    "## You can access an manipulate tuples similar to strings"
   ]
  },
  {
   "cell_type": "code",
   "execution_count": 1,
   "id": "f4cb9420-395b-4a91-89f5-e3adca628e75",
   "metadata": {},
   "outputs": [
    {
     "name": "stdout",
     "output_type": "stream",
     "text": [
      "('c', 'd')\n",
      "('a', 'b', 'c', 'd', 'a', 'b', 'c', 'd')\n",
      "(('a', 'b', 'c', 'd'), 1, 2, 3)\n",
      "('a', 'b', 'c', 'd', ('a', 'b', 'c', 'd'), 1, 2, 3)\n"
     ]
    }
   ],
   "source": [
    "a = (\"a\",\"b\",\"c\",\"d\")\n",
    "print(a[2:4])\n",
    "print(a*2)\n",
    "\n",
    "b = (a,1,2,3)\n",
    "print(b)\n",
    "print(a+b)"
   ]
  },
  {
   "cell_type": "markdown",
   "id": "8d654f15-5aff-40b9-8854-736c8107574f",
   "metadata": {
    "slideshow": {
     "slide_type": "slide"
    }
   },
   "source": [
    "# <center> Tuples </center>\n",
    "\n",
    "- ## Tuples are a Python sequence type\n",
    "- ## Sequence types can be iterated in a _for_ loop\n",
    "- ## Sequences can be indexed and sliced similar to strings "
   ]
  },
  {
   "cell_type": "code",
   "execution_count": 52,
   "id": "80197128-4dbe-485f-bcaf-aaaa8f7c5332",
   "metadata": {},
   "outputs": [
    {
     "name": "stdout",
     "output_type": "stream",
     "text": [
      "c\n",
      "d\n",
      "e\n",
      "f\n",
      "second element in the tupe: d\n"
     ]
    }
   ],
   "source": [
    "a = (\"c\",\"d\",\"e\",\"f\")\n",
    "for c in a:\n",
    "    print(c)\n",
    "print(\"second element in the tupe:\", a[1]) # remember indices start at 0"
   ]
  },
  {
   "cell_type": "markdown",
   "id": "624841fe-031c-4c14-a045-e292b22ec5f8",
   "metadata": {
    "editable": true,
    "slideshow": {
     "slide_type": "slide"
    },
    "tags": []
   },
   "source": [
    "# <center> Tuples </center>\n",
    "- ## Tuples are _immutable_: you cannot change an element in a tuple"
   ]
  },
  {
   "cell_type": "code",
   "execution_count": 3,
   "id": "86117d4e-0529-45de-b9d8-34865cc91672",
   "metadata": {},
   "outputs": [
    {
     "ename": "TypeError",
     "evalue": "'tuple' object does not support item assignment",
     "output_type": "error",
     "traceback": [
      "\u001b[0;31m---------------------------------------------------------------------------\u001b[0m",
      "\u001b[0;31mTypeError\u001b[0m                                 Traceback (most recent call last)",
      "Cell \u001b[0;32mIn[3], line 3\u001b[0m\n\u001b[1;32m      1\u001b[0m a \u001b[38;5;241m=\u001b[39m (\u001b[38;5;124m\"\u001b[39m\u001b[38;5;124mc\u001b[39m\u001b[38;5;124m\"\u001b[39m,\u001b[38;5;124m\"\u001b[39m\u001b[38;5;124md\u001b[39m\u001b[38;5;124m\"\u001b[39m,\u001b[38;5;124m\"\u001b[39m\u001b[38;5;124me\u001b[39m\u001b[38;5;124m\"\u001b[39m,\u001b[38;5;124m\"\u001b[39m\u001b[38;5;124mf\u001b[39m\u001b[38;5;124m\"\u001b[39m)\n\u001b[1;32m      2\u001b[0m \u001b[38;5;66;03m#a[0] = 1\u001b[39;00m\n\u001b[0;32m----> 3\u001b[0m \u001b[43ma\u001b[49m\u001b[43m[\u001b[49m\u001b[38;5;241;43m0\u001b[39;49m\u001b[43m]\u001b[49m \u001b[38;5;241m=\u001b[39m \u001b[38;5;124m\"\u001b[39m\u001b[38;5;124ma\u001b[39m\u001b[38;5;124m\"\u001b[39m\n",
      "\u001b[0;31mTypeError\u001b[0m: 'tuple' object does not support item assignment"
     ]
    }
   ],
   "source": [
    "a = (\"c\",\"d\",\"e\",\"f\")\n",
    "#a[0] = 1\n",
    "a[0] = \"a\""
   ]
  },
  {
   "cell_type": "markdown",
   "id": "a16b1c07-3346-4ba9-b68e-e29b7da594be",
   "metadata": {},
   "source": [
    "- ### You can compare tuples with each other\n"
   ]
  },
  {
   "cell_type": "code",
   "execution_count": 7,
   "id": "d48e1717-ba10-4f21-ad5d-bb891c5aaedc",
   "metadata": {
    "scrolled": true
   },
   "outputs": [
    {
     "name": "stdout",
     "output_type": "stream",
     "text": [
      "False\n",
      "False\n",
      "True\n"
     ]
    }
   ],
   "source": [
    "a = (1,2,3,4)\n",
    "print(a == (1,2,4,3))\n",
    "print(a == (1,2))\n",
    "print(a == (1,2,3,4))"
   ]
  },
  {
   "cell_type": "markdown",
   "id": "88c1c918-656e-427f-a736-02622feb2064",
   "metadata": {
    "slideshow": {
     "slide_type": "slide"
    }
   },
   "source": [
    "# <center> Lists </center>\n",
    "\n",
    "### [_elem1_, _elem2_, _elem3_, ..., _elemN_]\n",
    "- ## Lists are similar to tuples, however they are mutable"
   ]
  },
  {
   "cell_type": "code",
   "execution_count": 8,
   "id": "018e5c79-40cd-4016-96f0-ef3a123f2ac1",
   "metadata": {},
   "outputs": [
    {
     "name": "stdout",
     "output_type": "stream",
     "text": [
      "[1, 2, 3, 4]\n",
      "[[], 2, 3, 4]\n"
     ]
    }
   ],
   "source": [
    "a = []\n",
    "b = [1,2,3,4]\n",
    "print(b)\n",
    "b[0] = a\n",
    "print(b)"
   ]
  },
  {
   "cell_type": "markdown",
   "id": "c6fdb977-ed57-4b02-84d6-7d64fc99c34a",
   "metadata": {},
   "source": [
    "- ## Lists are also Python sequences, you can use them in for loops and index/slice them"
   ]
  },
  {
   "cell_type": "code",
   "execution_count": 9,
   "id": "03ad21b5-d4f8-4d46-a36d-f20b632dfa2c",
   "metadata": {},
   "outputs": [
    {
     "data": {
      "text/plain": [
       "['b', 'c']"
      ]
     },
     "execution_count": 9,
     "metadata": {},
     "output_type": "execute_result"
    }
   ],
   "source": [
    "a = [\"a\",\"b\",\"c\",\"d\"]\n",
    "a[1:3]"
   ]
  },
  {
   "cell_type": "markdown",
   "id": "f44254de-97bc-4801-b426-10f89852967a",
   "metadata": {
    "slideshow": {
     "slide_type": "slide"
    }
   },
   "source": [
    "# <center> Negative index and step in Pyton </center>"
   ]
  },
  {
   "cell_type": "markdown",
   "id": "bd0dca68-7e4b-4a88-b70a-182754817099",
   "metadata": {},
   "source": [
    "- ## In python you can have negative indices. -1 is the index of the last element, -2 the element before the last one, and so on."
   ]
  },
  {
   "cell_type": "code",
   "execution_count": 75,
   "id": "2f0f199c-9228-485d-8fb4-201460e4186e",
   "metadata": {},
   "outputs": [
    {
     "name": "stdout",
     "output_type": "stream",
     "text": [
      "e\n",
      "['b', 'c']\n"
     ]
    }
   ],
   "source": [
    "a = [\"a\",\"b\",\"c\",\"d\",\"e\"]\n",
    "print(a[-1])\n",
    "print(a[1:-2])"
   ]
  },
  {
   "cell_type": "markdown",
   "id": "16fbfa02-0650-4992-99bf-d6fc2cdc880c",
   "metadata": {},
   "source": [
    "- ## When slicing sequence, or making a range you can have negative steps"
   ]
  },
  {
   "cell_type": "code",
   "execution_count": 71,
   "id": "01596d8a-0320-4b36-b300-8b685ee52d5b",
   "metadata": {},
   "outputs": [
    {
     "name": "stdout",
     "output_type": "stream",
     "text": [
      "['d', 'c', 'b', 'a']\n",
      "['d', 'b']\n"
     ]
    }
   ],
   "source": [
    "a = [\"a\",\"b\",\"c\",\"d\"]\n",
    "print(a[::-1])\n",
    "print(a[::-2])"
   ]
  },
  {
   "cell_type": "markdown",
   "id": "a6f86b30-bb8e-499f-b2ba-2ee251d528fb",
   "metadata": {
    "slideshow": {
     "slide_type": "slide"
    }
   },
   "source": [
    "# <center> Assignment by Reference </center>\n",
    "\n",
    "- ## In Python all assignments are by reference\n",
    "- ## Be careful with mutable objects that are assigned by reference:"
   ]
  },
  {
   "cell_type": "code",
   "execution_count": 78,
   "id": "ca624a35-8006-4d5f-a2bf-120fd48c7cba",
   "metadata": {},
   "outputs": [
    {
     "name": "stdout",
     "output_type": "stream",
     "text": [
      "[1, 'b', 'c', 'd']\n"
     ]
    }
   ],
   "source": [
    "a = [\"a\",\"b\",\"c\",\"d\"]\n",
    "b = a \n",
    "a[0]=1\n",
    "print(b)"
   ]
  },
  {
   "cell_type": "markdown",
   "id": "4959c65d-9682-40e3-ab25-bfaca5b05df7",
   "metadata": {},
   "source": [
    "- ## Also avoid using mutable objects as default arguments of functions\n",
    "- ## To solve this problem you can use the copy() method"
   ]
  },
  {
   "cell_type": "code",
   "execution_count": 80,
   "id": "e23bcbc9-287d-418a-90c4-3a2d2d5d67ac",
   "metadata": {},
   "outputs": [
    {
     "name": "stdout",
     "output_type": "stream",
     "text": [
      "['a', 'b', 'c', 'd']\n"
     ]
    }
   ],
   "source": [
    "a = [\"a\",\"b\",\"c\",\"d\"]\n",
    "b = a.copy()\n",
    "a[0]=1\n",
    "print(b)"
   ]
  },
  {
   "cell_type": "markdown",
   "id": "c0c45e22-28ec-4203-b291-e902eccb2872",
   "metadata": {
    "slideshow": {
     "slide_type": "slide"
    }
   },
   "source": [
    "# <center> List Methods </center>\n",
    "## Here are some of the most useful methods of lists:\n",
    "- ### append(_element_) : adds an element to the end of the list\n",
    "- ### insert(_index_,_element_) : puts an element in the given index position of the list\n",
    "- ### remove(_element_) : removes an element from the list\n",
    "- ### index(_element_) : give the index location of the input element in the list\n",
    "- ### pop(_index_) : removes and returns an element from the given index position of the list\n",
    "- ### pop() : removes and returns the last element of the list (index=-1)\n",
    "- ### reverse() : reverses the order of the elements in the list\n",
    "- ### sort() : sorts the elements in the list in increasing order"
   ]
  },
  {
   "cell_type": "markdown",
   "id": "d225fa74-db08-4d1f-9569-807c3eb185e9",
   "metadata": {
    "slideshow": {
     "slide_type": "slide"
    }
   },
   "source": [
    "# <center> List Methods </center>\n",
    "\n",
    "- ## Example:"
   ]
  },
  {
   "cell_type": "code",
   "execution_count": 93,
   "id": "164e8471-ef51-41ed-906b-90e3a388c475",
   "metadata": {
    "scrolled": true
   },
   "outputs": [
    {
     "name": "stdout",
     "output_type": "stream",
     "text": [
      "[1, 2, 3, 4]\n",
      "[1, 5, 2, 4, 0]\n",
      "index of 4 is:3\n",
      "now 1 is popped from the list: [5, 2, 4, 0]\n",
      "now 0 is popped from the list: [5, 2, 4]\n",
      "after reversing we have: [4, 2, 5]\n",
      "after sorting we get: [2, 4, 5]\n"
     ]
    }
   ],
   "source": [
    "l = [1,2,3,4]\n",
    "print(l)\n",
    "l.append(0)\n",
    "l.insert(1, 5)\n",
    "l.remove(3) \n",
    "print(l)\n",
    "print(f\"index of 4 is:{l.index(4)}\") \n",
    "print(f\"now {l.pop(0)} is popped from the list: {l}\") \n",
    "print(f\"now {l.pop()} is popped from the list: {l}\") \n",
    "l.reverse() \n",
    "print(f\"after reversing we have: {l}\")\n",
    "l.sort() \n",
    "print(f\"after sorting we get: {l}\")"
   ]
  },
  {
   "cell_type": "markdown",
   "id": "6b51fce2-a5f2-4135-bf23-2acdc1f79ffc",
   "metadata": {
    "slideshow": {
     "slide_type": "slide"
    }
   },
   "source": [
    "# <center> List Comprehension </center>\n",
    "\n",
    "- ## You can also create a list with list comprehension\n",
    "### [ _expr_ for _variable_ in _sequence_]\n",
    "### [ _expr_ for _variable_ in _sequence_ if _condition_]\n",
    "- ## List comprehension is mainly to shorten the program\n",
    "- ## For example you want to make a list of all odd numbers between 1 and 100:"
   ]
  },
  {
   "cell_type": "code",
   "execution_count": 157,
   "id": "546e69e0-9026-4143-beda-b9f92188a8ea",
   "metadata": {
    "scrolled": true
   },
   "outputs": [
    {
     "name": "stdout",
     "output_type": "stream",
     "text": [
      "[1, 3, 5, 7, 9, 11, 13, 15, 17, 19, 21, 23, 25, 27, 29, 31, 33, 35, 37, 39, 41, 43, 45, 47, 49, 51, 53, 55, 57, 59, 61, 63, 65, 67, 69, 71, 73, 75, 77, 79, 81, 83, 85, 87, 89, 91, 93, 95, 97, 99]\n"
     ]
    }
   ],
   "source": [
    "l = []\n",
    "for i in range(100):\n",
    "    if i%2 != 0:\n",
    "        l.append(i)\n",
    "print(l)"
   ]
  },
  {
   "cell_type": "markdown",
   "id": "f578f2ff-4be9-4f8d-9179-51603bdd2e92",
   "metadata": {
    "slideshow": {
     "slide_type": "slide"
    }
   },
   "source": [
    "# <center> List Comprehension </center>\n",
    "## Example: list of all odd numbers between 1 and 100"
   ]
  },
  {
   "cell_type": "code",
   "execution_count": 7,
   "id": "3c24f131-2ce4-4e20-83aa-d1401a470467",
   "metadata": {},
   "outputs": [
    {
     "name": "stdout",
     "output_type": "stream",
     "text": [
      "[1, 3, 5, 7, 9, 11, 13, 15, 17, 19, 21, 23, 25, 27, 29, 31, 33, 35, 37, 39, 41, 43, 45, 47, 49, 51, 53, 55, 57, 59, 61, 63, 65, 67, 69, 71, 73, 75, 77, 79, 81, 83, 85, 87, 89, 91, 93, 95, 97, 99]\n"
     ]
    }
   ],
   "source": [
    "l = [i for i in range(100) if i%2 != 0]\n",
    "print(l)"
   ]
  },
  {
   "cell_type": "markdown",
   "id": "40a6d0fe-a764-4f7f-a990-5e44d3aebf74",
   "metadata": {},
   "source": [
    "### Another correct answer:"
   ]
  },
  {
   "cell_type": "code",
   "execution_count": 163,
   "id": "6576a83f-2f61-4b4a-8d20-adcf444d52d3",
   "metadata": {
    "editable": true,
    "slideshow": {
     "slide_type": ""
    },
    "tags": []
   },
   "outputs": [
    {
     "name": "stdout",
     "output_type": "stream",
     "text": [
      "[1, 3, 5, 7, 9, 11, 13, 15, 17, 19, 21, 23, 25, 27, 29, 31, 33, 35, 37, 39, 41, 43, 45, 47, 49, 51, 53, 55, 57, 59, 61, 63, 65, 67, 69, 71, 73, 75, 77, 79, 81, 83, 85, 87, 89, 91, 93, 95, 97, 99]\n"
     ]
    }
   ],
   "source": [
    "l = [i for i in range(1,100,2)]\n",
    "print(l)"
   ]
  },
  {
   "cell_type": "markdown",
   "id": "ae6f91c8-26cf-4b1b-bb1a-f3572f67fa69",
   "metadata": {
    "editable": true,
    "slideshow": {
     "slide_type": "slide"
    },
    "tags": []
   },
   "source": [
    "# <center> Reference </center> \n",
    "\n",
    "- ## Guttag Book: Chapters 2, 4, and 5"
   ]
  }
 ],
 "metadata": {
  "celltoolbar": "Slideshow",
  "kernelspec": {
   "display_name": "Python 3 (ipykernel)",
   "language": "python",
   "name": "python3"
  },
  "language_info": {
   "codemirror_mode": {
    "name": "ipython",
    "version": 3
   },
   "file_extension": ".py",
   "mimetype": "text/x-python",
   "name": "python",
   "nbconvert_exporter": "python",
   "pygments_lexer": "ipython3",
   "version": "3.12.11"
  }
 },
 "nbformat": 4,
 "nbformat_minor": 5
}

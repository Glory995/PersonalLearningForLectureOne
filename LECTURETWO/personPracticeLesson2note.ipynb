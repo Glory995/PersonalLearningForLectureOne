{
 "cells": [
  {
   "cell_type": "markdown",
   "metadata": {},
   "source": [
    "# Python Practice Questions - Lecture 2\n",
    "## Loops, Functions, and Data Structures\n",
    "\n",
    "**Instructions:** Answer each question in the cell provided below it. Run your code to test your solutions.\n",
    "\n",
    "---"
   ]
  },
  {
   "cell_type": "markdown",
   "metadata": {},
   "source": [
    "### Question 1: Formatted Printing\n",
    "Create an f-string that displays a person's name and age in the format: \"Hello, my name is [name] and I am [age] years old.\""
   ]
  },
  {
   "cell_type": "code",
   "execution_count": 1,
   "metadata": {},
   "outputs": [
    {
     "name": "stdout",
     "output_type": "stream",
     "text": [
      " hello my name is Glory  and I am 24  years old\n"
     ]
    }
   ],
   "source": [
    "# Your code here\n",
    "name = \"Glory \"\n",
    "\n",
    "age = 24\n",
    "\n",
    "print(f\" hello my name is {name} and I am {age}  years old\")"
   ]
  },
  {
   "cell_type": "markdown",
   "metadata": {},
   "source": [
    "### Question 2: Format Specifiers\n",
    "Print the value of π (3.14159) with exactly 2 decimal places using f-string formatting."
   ]
  },
  {
   "cell_type": "code",
   "execution_count": 3,
   "metadata": {},
   "outputs": [
    {
     "name": "stdout",
     "output_type": "stream",
     "text": [
      "the value of pi with exactly 2decimalPlace is  3.14\n"
     ]
    }
   ],
   "source": [
    "# Your code here\n",
    "import math\n",
    "pi = math.pi\n",
    "\n",
    "\n",
    "print(f\"the value of pi with exactly 2decimalPlace is  {pi:.2f}\")\n"
   ]
  },
  {
   "cell_type": "markdown",
   "metadata": {},
   "source": [
    "### Question 3: Input Function\n",
    "Write a program that asks the user for their favorite color and responds with \"[Color] is a beautiful color!\""
   ]
  },
  {
   "cell_type": "code",
   "execution_count": 4,
   "metadata": {},
   "outputs": [
    {
     "name": "stdout",
     "output_type": "stream",
     "text": [
      " Magenta is beautiful\n"
     ]
    }
   ],
   "source": [
    "# Your code here\n",
    "favColor = input(\"Eter your favourite color \")\n",
    "\n",
    "print (f\" {favColor} is beautiful\")"
   ]
  },
  {
   "cell_type": "markdown",
   "metadata": {},
   "source": [
    "### Question 4: BMI Calculator Enhancement\n",
    "Create a BMI calculator that also categorizes the BMI:\n",
    "- Below 18.5: Underweight\n",
    "- 18.5-24.9: Normal weight\n",
    "- 25-29.9: Overweight\n",
    "- 30 and above: Obese"
   ]
  },
  {
   "cell_type": "code",
   "execution_count": null,
   "metadata": {},
   "outputs": [
    {
     "name": "stdout",
     "output_type": "stream",
     "text": [
      "Your Body Mass Index(BMI ) is 0.034026465028355386\n",
      "You are underweight and you need to eat\n"
     ]
    }
   ],
   "source": [
    "# Your code here\n",
    "weight = float(input(\"Enter your weight in kg\"))\n",
    "\n",
    "height = float (input(\"enter your height in meters \"))\n",
    "\n",
    "BMI = weight/height**2\n",
    "\n",
    "print( f\"Your Body Mass Index(BMI ) is {BMI:.2f}\")\n",
    "\n",
    "\n",
    "if BMI< 18.5:\n",
    "    print( \"You are underweight and you need to eat\" )\n",
    "elif BMI <= 24.9:\n",
    "    print(\"you are weighing normal , clap for yourself \")\n",
    "elif BMI <= 29.9:\n",
    "    print(\"you are overweight , go do some training man\")\n",
    "else :\n",
    "    print(\"Obesseee   and you are still typing come o man \")"
   ]
  },
  {
   "cell_type": "markdown",
   "metadata": {},
   "source": [
    "### Question 5: While Loop - Countdown\n",
    "Write a while loop that counts down from 10 to 1 and prints \"Blast off!\" at the end."
   ]
  },
  {
   "cell_type": "code",
   "execution_count": 22,
   "metadata": {},
   "outputs": [
    {
     "name": "stdout",
     "output_type": "stream",
     "text": [
      "10\n",
      "9\n",
      "8\n",
      "7\n",
      "6\n",
      "5\n",
      "4\n",
      "3\n",
      "2\n",
      "1\n",
      "0\n",
      "Blast off!\n"
     ]
    }
   ],
   "source": [
    "# Your code here\n",
    "\n",
    "n = 10\n",
    "while  n>= 0:\n",
    "    print (n)\n",
    "    n = n-1\n",
    "print(\"Blast off!\")"
   ]
  },
  {
   "cell_type": "markdown",
   "metadata": {},
   "source": [
    "### Question 6: While Loop - Sum of Digits\n",
    "Write a program that calculates the sum of digits of a number using a while loop. For example, 123 → 1+2+3 = 6"
   ]
  },
  {
   "cell_type": "code",
   "execution_count": 23,
   "metadata": {},
   "outputs": [
    {
     "name": "stdout",
     "output_type": "stream",
     "text": [
      "8\n",
      "8\n"
     ]
    }
   ],
   "source": [
    "# Your code here\n",
    "number = 512\n",
    "newnum= 0 \n",
    "newnum2 = 0\n",
    "\n",
    "n=0\n",
    "\n",
    "for i in str(number):\n",
    "    newnum = int(i)+ newnum\n",
    "\n",
    "print(newnum)\n",
    "\n",
    "\n",
    "while n< len(str(number)):\n",
    "    newnum2 = int((str(number))[n]) + newnum2\n",
    "    n= n+1  #dont always forget your increment \n",
    "\n",
    "print(newnum2)\n",
    "\n"
   ]
  },
  {
   "cell_type": "markdown",
   "metadata": {},
   "source": [
    "### Question 7: While Loop with Break\n",
    "Find the smallest number greater than 100 that is divisible by both 7 and 13."
   ]
  },
  {
   "cell_type": "code",
   "execution_count": 24,
   "metadata": {},
   "outputs": [
    {
     "name": "stdout",
     "output_type": "stream",
     "text": [
      " I think we have found the number 182\n"
     ]
    }
   ],
   "source": [
    "# Your code here\n",
    "\n",
    "smal =100\n",
    "\n",
    "while smal >= 100:\n",
    "    if smal%7 == 0 and smal%13 ==0:\n",
    "        print(f\" I think we have found the number {smal}\")\n",
    "        break\n",
    "    smal= smal+1\n",
    "    "
   ]
  },
  {
   "cell_type": "markdown",
   "metadata": {},
   "source": [
    "### Question 8: For Loop with Tuple\n",
    "Given the tuple (10, 20, 30, 40, 50), calculate the sum of all elements using a for loop."
   ]
  },
  {
   "cell_type": "code",
   "execution_count": 26,
   "metadata": {},
   "outputs": [
    {
     "name": "stdout",
     "output_type": "stream",
     "text": [
      "150\n"
     ]
    }
   ],
   "source": [
    "# Your code here\n",
    "numbers = (10, 20, 30, 40, 50)\n",
    "\n",
    "total = 0\n",
    "for i in numbers:\n",
    "    total = total +i\n",
    "print(total)\n"
   ]
  },
  {
   "cell_type": "markdown",
   "metadata": {},
   "source": [
    "### Question 9: For Loop with String\n",
    "Count the number of vowels in the string \"Programming\" using a for loop."
   ]
  },
  {
   "cell_type": "code",
   "execution_count": 2,
   "metadata": {},
   "outputs": [
    {
     "name": "stdout",
     "output_type": "stream",
     "text": [
      "3\n"
     ]
    }
   ],
   "source": [
    "# Your code here\n",
    "word = \"Programming\"\n",
    "\n",
    "vowel = [\"a\", \"e\", \"i\" , \"o\", \"u\"]\n",
    "\n",
    "counter = 0\n",
    "\n",
    "\n",
    "\n",
    "for i in word:\n",
    "    if i in vowel:\n",
    "        counter= counter+ 1\n",
    "\n",
    "print(counter)\n",
    "\n"
   ]
  },
  {
   "cell_type": "markdown",
   "metadata": {},
   "source": [
    "### Question 10: Range Function\n",
    "Use the range function to print all even numbers from 2 to 20 (inclusive)."
   ]
  },
  {
   "cell_type": "code",
   "execution_count": 4,
   "metadata": {},
   "outputs": [
    {
     "name": "stdout",
     "output_type": "stream",
     "text": [
      "2\n",
      "4\n",
      "6\n",
      "8\n",
      "10\n",
      "12\n",
      "14\n",
      "16\n",
      "18\n",
      "20\n"
     ]
    }
   ],
   "source": [
    "# Your code here\n",
    "\n",
    "for i in range (2,21,2):\n",
    "    print(i)\n"
   ]
  },
  {
   "cell_type": "markdown",
   "metadata": {},
   "source": [
    "### Question 11: Range Function Theory\n",
    "**Theory Question:** What does `range(5, 15, 3)` generate? Write the sequence without running code."
   ]
  },
  {
   "cell_type": "code",
   "execution_count": null,
   "metadata": {},
   "outputs": [],
   "source": [
    "# Write your answer as a comment and then verify by running range(5, 15, 3)\n",
    "# Answer: \n",
    "\n",
    "5,7,9,12,14\n"
   ]
  },
  {
   "cell_type": "markdown",
   "metadata": {},
   "source": [
    "### Question 12: Nested Loops - Multiplication Table\n",
    "Create a multiplication table for numbers 1-5 using nested loops."
   ]
  },
  {
   "cell_type": "code",
   "execution_count": 9,
   "metadata": {},
   "outputs": [
    {
     "name": "stdout",
     "output_type": "stream",
     "text": [
      "1 * 1 =  1 \n",
      "1 * 2 =  2 \n",
      "1 * 3 =  3 \n",
      "1 * 4 =  4 \n",
      "1 * 5 =  5 \n",
      "1 * 6 =  6 \n",
      "1 * 7 =  7 \n",
      "1 * 8 =  8 \n",
      "1 * 9 =  9 \n",
      "1 * 10 =  10 \n",
      "1 * 11 =  11 \n",
      "1 * 12 =  12 \n",
      "\n",
      "2 * 0 =  0 \n",
      "2 * 1 =  2 \n",
      "2 * 2 =  4 \n",
      "2 * 3 =  6 \n",
      "2 * 4 =  8 \n",
      "2 * 5 =  10 \n",
      "2 * 6 =  12 \n",
      "2 * 7 =  14 \n",
      "2 * 8 =  16 \n",
      "2 * 9 =  18 \n",
      "2 * 10 =  20 \n",
      "2 * 11 =  22 \n",
      "2 * 12 =  24 \n",
      "\n",
      "3 * 0 =  0 \n",
      "3 * 1 =  3 \n",
      "3 * 2 =  6 \n",
      "3 * 3 =  9 \n",
      "3 * 4 =  12 \n",
      "3 * 5 =  15 \n",
      "3 * 6 =  18 \n",
      "3 * 7 =  21 \n",
      "3 * 8 =  24 \n",
      "3 * 9 =  27 \n",
      "3 * 10 =  30 \n",
      "3 * 11 =  33 \n",
      "3 * 12 =  36 \n",
      "\n",
      "4 * 0 =  0 \n",
      "4 * 1 =  4 \n",
      "4 * 2 =  8 \n",
      "4 * 3 =  12 \n",
      "4 * 4 =  16 \n",
      "4 * 5 =  20 \n",
      "4 * 6 =  24 \n",
      "4 * 7 =  28 \n",
      "4 * 8 =  32 \n",
      "4 * 9 =  36 \n",
      "4 * 10 =  40 \n",
      "4 * 11 =  44 \n",
      "4 * 12 =  48 \n",
      "\n",
      "5 * 0 =  0 \n",
      "5 * 1 =  5 \n",
      "5 * 2 =  10 \n",
      "5 * 3 =  15 \n",
      "5 * 4 =  20 \n",
      "5 * 5 =  25 \n",
      "5 * 6 =  30 \n",
      "5 * 7 =  35 \n",
      "5 * 8 =  40 \n",
      "5 * 9 =  45 \n",
      "5 * 10 =  50 \n",
      "5 * 11 =  55 \n",
      "5 * 12 =  60 \n",
      "\n"
     ]
    }
   ],
   "source": [
    "# Your code here\n",
    "\n",
    "mult_no = [1,2,3,4,5]\n",
    "\n",
    "start = 1\n",
    "\n",
    "for i in mult_no:\n",
    "    while start < 13:\n",
    "        print(f\"{i} * {start} =  {i* start} \" )\n",
    "        start= start + 1\n",
    "        \n",
    "    start=0\n",
    "    print() \n"
   ]
  },
  {
   "cell_type": "markdown",
   "metadata": {},
   "source": [
    "### Question 13: Nested Loops - Pattern\n",
    "Create this pattern using nested loops:\n",
    "```\n",
    "*\n",
    "**\n",
    "***\n",
    "****\n",
    "*****\n",
    "```"
   ]
  },
  {
   "cell_type": "code",
   "execution_count": 11,
   "metadata": {},
   "outputs": [
    {
     "name": "stdout",
     "output_type": "stream",
     "text": [
      "\n",
      "*\n",
      "**\n",
      "***\n",
      "****\n",
      "*****\n"
     ]
    }
   ],
   "source": [
    "# Your code here\n",
    "for i in range(6):\n",
    "    print(\"*\"*i)"
   ]
  },
  {
   "cell_type": "markdown",
   "metadata": {},
   "source": [
    "### Question 14: Break and Continue\n",
    "Print numbers 1 to 20, but skip numbers divisible by 3 and stop if you encounter 15."
   ]
  },
  {
   "cell_type": "code",
   "execution_count": 15,
   "metadata": {},
   "outputs": [
    {
     "name": "stdout",
     "output_type": "stream",
     "text": [
      "1\n",
      "2\n",
      "4\n",
      "5\n",
      "7\n",
      "8\n",
      "10\n",
      "11\n",
      "13\n",
      "14\n"
     ]
    }
   ],
   "source": [
    "# Your code here\n",
    "for i in range(1,21):\n",
    "\n",
    "    if i== 15:\n",
    "        break\n",
    "    if i%3 ==0 :\n",
    "        continue\n",
    "    else:\n",
    "        print(i)"
   ]
  },
  {
   "cell_type": "markdown",
   "metadata": {},
   "source": [
    "### Question 15: Augmented Assignments\n",
    "Starting with `total = 0`, use augmented assignment operators to:\n",
    "1. Add 10\n",
    "2. Multiply by 3\n",
    "3. Subtract 5\n",
    "4. Divide by 5\n",
    "Print the final result."
   ]
  },
  {
   "cell_type": "code",
   "execution_count": 16,
   "metadata": {},
   "outputs": [
    {
     "name": "stdout",
     "output_type": "stream",
     "text": [
      "5.0\n"
     ]
    }
   ],
   "source": [
    "# Your code here\n",
    "total = 0\n",
    "\n",
    "total += 10\n",
    "\n",
    "total *= 3\n",
    "\n",
    "total -= 5\n",
    "\n",
    "total/= 5\n",
    "\n",
    "\n",
    "print(total)\n",
    "\n",
    "\n"
   ]
  },
  {
   "cell_type": "markdown",
   "metadata": {},
   "source": [
    "### Question 16: Simple Function\n",
    "Define a function called `greet` that takes a name as parameter and returns \"Hello, [name]!\""
   ]
  },
  {
   "cell_type": "code",
   "execution_count": 21,
   "metadata": {},
   "outputs": [
    {
     "name": "stdout",
     "output_type": "stream",
     "text": [
      " Hello  Glory\n"
     ]
    }
   ],
   "source": [
    "# Your code here\n",
    "\n",
    "\n",
    "\n",
    "def greet(chalyy ):\n",
    "    print (f\" Hello  {chalyy}\")\n",
    "\n",
    "\n",
    "greet(\"Glory\" )\n"
   ]
  },
  {
   "cell_type": "markdown",
   "metadata": {},
   "source": [
    "### Question 17: Function with Multiple Parameters\n",
    "Create a function called `rectangle_area` that calculates the area of a rectangle given length and width."
   ]
  },
  {
   "cell_type": "code",
   "execution_count": 22,
   "metadata": {},
   "outputs": [
    {
     "data": {
      "text/plain": [
       "30"
      ]
     },
     "execution_count": 22,
     "metadata": {},
     "output_type": "execute_result"
    }
   ],
   "source": [
    "# Your code here\n",
    "\n",
    "def rectangle_area(l,b):\n",
    "    area_rectangle = l*b\n",
    "\n",
    "    return area_rectangle\n",
    "\n",
    "\n",
    "rectangle_area(5,6)"
   ]
  },
  {
   "cell_type": "markdown",
   "metadata": {},
   "source": [
    "### Question 18: Function with Conditional Return\n",
    "Write a function called `max_of_three` that returns the maximum of three numbers. If all numbers are equal, return None."
   ]
  },
  {
   "cell_type": "code",
   "execution_count": 28,
   "metadata": {},
   "outputs": [
    {
     "data": {
      "text/plain": [
       "9"
      ]
     },
     "execution_count": 28,
     "metadata": {},
     "output_type": "execute_result"
    }
   ],
   "source": [
    "# Your code here\n",
    "\n",
    "def max_of_three(x, y, z):\n",
    "\n",
    "    if (x==y==z):\n",
    "        return None\n",
    "    else:\n",
    "        return(max(x,y,z))\n",
    "   \n",
    "    \n",
    "\n",
    "max_of_three(3,9,0)\n"
   ]
  },
  {
   "cell_type": "markdown",
   "metadata": {},
   "source": [
    "### Question 19: Function - Prime Checker\n",
    "Create a function called `is_prime` that returns True if a number is prime, False otherwise."
   ]
  },
  {
   "cell_type": "code",
   "execution_count": null,
   "metadata": {},
   "outputs": [],
   "source": [
    "# Your code here\n",
    "def is_prime():\n",
    "    "
   ]
  },
  {
   "cell_type": "markdown",
   "metadata": {},
   "source": [
    "### Question 20: Keyword Arguments\n",
    "Create a function called `format_address` that takes street, city, and country as parameters. Use keyword arguments to call it with country=\"Sweden\", city=\"Halmstad\", street=\"Kristian IV:s väg\"."
   ]
  },
  {
   "cell_type": "code",
   "execution_count": null,
   "metadata": {},
   "outputs": [],
   "source": [
    "# Your code here\n"
   ]
  },
  {
   "cell_type": "markdown",
   "metadata": {},
   "source": [
    "### Question 21: Default Arguments\n",
    "Write a function called `power` that calculates x raised to the power of y. Make y default to 2 (for squaring)."
   ]
  },
  {
   "cell_type": "code",
   "execution_count": null,
   "metadata": {},
   "outputs": [],
   "source": [
    "# Your code here\n"
   ]
  },
  {
   "cell_type": "markdown",
   "metadata": {},
   "source": [
    "### Question 22: Local vs Global Variables\n",
    "**Theory Question:** What will be printed by this code?\n",
    "```python\n",
    "x = 10\n",
    "def modify_x():\n",
    "    x = 20\n",
    "    print(f\"Inside function: x = {x}\")\n",
    "    \n",
    "modify_x()\n",
    "print(f\"Outside function: x = {x}\")\n",
    "```"
   ]
  },
  {
   "cell_type": "code",
   "execution_count": null,
   "metadata": {},
   "outputs": [],
   "source": [
    "# Write your prediction as comments, then run the code to verify\n",
    "# Prediction:\n",
    "# \n",
    "\n",
    "x = 10\n",
    "def modify_x():\n",
    "    x = 20\n",
    "    print(f\"Inside function: x = {x}\")\n",
    "    \n",
    "modify_x()\n",
    "print(f\"Outside function: x = {x}\")"
   ]
  },
  {
   "cell_type": "markdown",
   "metadata": {},
   "source": [
    "### Question 23: Higher Order Functions\n",
    "Create a function called `apply_operation` that takes a number and a function as parameters, then applies the function to the number."
   ]
  },
  {
   "cell_type": "code",
   "execution_count": null,
   "metadata": {},
   "outputs": [],
   "source": [
    "# Your code here\n",
    "# Test it with a square function\n"
   ]
  },
  {
   "cell_type": "markdown",
   "metadata": {},
   "source": [
    "### Question 24: Lambda Functions\n",
    "Use a lambda function to create a function that doubles a number, then use it with the apply_operation function from the previous question."
   ]
  },
  {
   "cell_type": "code",
   "execution_count": null,
   "metadata": {},
   "outputs": [],
   "source": [
    "# Your code here\n"
   ]
  },
  {
   "cell_type": "markdown",
   "metadata": {},
   "source": [
    "### Question 25: String Methods\n",
    "Given the string \"python programming\", use string methods to:\n",
    "1. Capitalize it\n",
    "2. Convert to uppercase\n",
    "3. Find the position of \"gram\""
   ]
  },
  {
   "cell_type": "code",
   "execution_count": null,
   "metadata": {},
   "outputs": [],
   "source": [
    "# Your code here\n",
    "s = \"python programming\"\n"
   ]
  },
  {
   "cell_type": "markdown",
   "metadata": {},
   "source": [
    "### Question 26: Tuple Creation\n",
    "Create the following tuples:\n",
    "1. A tuple with one element (the number 42)\n",
    "2. An empty tuple\n",
    "3. A tuple with mixed data types: string, integer, and float"
   ]
  },
  {
   "cell_type": "code",
   "execution_count": null,
   "metadata": {},
   "outputs": [],
   "source": [
    "# Your code here\n"
   ]
  },
  {
   "cell_type": "markdown",
   "metadata": {},
   "source": [
    "### Question 27: Tuple Operations\n",
    "Given tuple a = (1, 2, 3) and tuple b = (4, 5), create a new tuple c that contains all elements from a followed by all elements from b."
   ]
  },
  {
   "cell_type": "code",
   "execution_count": null,
   "metadata": {},
   "outputs": [],
   "source": [
    "# Your code here\n",
    "a = (1, 2, 3)\n",
    "b = (4, 5)\n"
   ]
  },
  {
   "cell_type": "markdown",
   "metadata": {},
   "source": [
    "### Question 28: Tuple Slicing\n",
    "Given the tuple colors = (\"red\", \"green\", \"blue\", \"yellow\", \"purple\"), extract the middle three colors."
   ]
  },
  {
   "cell_type": "code",
   "execution_count": null,
   "metadata": {},
   "outputs": [],
   "source": [
    "# Your code here\n",
    "colors = (\"red\", \"green\", \"blue\", \"yellow\", \"purple\")\n"
   ]
  },
  {
   "cell_type": "markdown",
   "metadata": {},
   "source": [
    "### Question 29: Tuple Immutability\n",
    "**Theory Question:** Why does this code produce an error?\n",
    "```python\n",
    "my_tuple = (1, 2, 3)\n",
    "my_tuple[0] = 10\n",
    "```"
   ]
  },
  {
   "cell_type": "code",
   "execution_count": null,
   "metadata": {},
   "outputs": [],
   "source": [
    "# Write your explanation as a comment\n",
    "# Explanation: \n"
   ]
  },
  {
   "cell_type": "markdown",
   "metadata": {},
   "source": [
    "### Question 30: Tuple Comparison\n",
    "Compare these tuples and predict the results:\n",
    "1. (1, 2, 3) == (1, 2, 3)\n",
    "2. (1, 2, 3) == (3, 2, 1)\n",
    "3. (1, 2) < (1, 2, 3)"
   ]
  },
  {
   "cell_type": "code",
   "execution_count": null,
   "metadata": {},
   "outputs": [],
   "source": [
    "# Your predictions and verification\n"
   ]
  },
  {
   "cell_type": "markdown",
   "metadata": {},
   "source": [
    "### Question 31: List Creation and Modification\n",
    "Create a list with numbers 1-5, then change the third element to 100."
   ]
  },
  {
   "cell_type": "code",
   "execution_count": null,
   "metadata": {},
   "outputs": [],
   "source": [
    "# Your code here\n"
   ]
  },
  {
   "cell_type": "markdown",
   "metadata": {},
   "source": [
    "### Question 32: List Slicing\n",
    "Given the list [0, 1, 2, 3, 4, 5, 6, 7, 8, 9], extract:\n",
    "1. Elements from index 3 to 7\n",
    "2. Every second element\n",
    "3. The list in reverse order"
   ]
  },
  {
   "cell_type": "code",
   "execution_count": null,
   "metadata": {},
   "outputs": [],
   "source": [
    "# Your code here\n",
    "numbers = [0, 1, 2, 3, 4, 5, 6, 7, 8, 9]\n"
   ]
  },
  {
   "cell_type": "markdown",
   "metadata": {},
   "source": [
    "### Question 33: Negative Indexing\n",
    "Given the list ['a', 'b', 'c', 'd', 'e'], access the second-to-last element using negative indexing."
   ]
  },
  {
   "cell_type": "code",
   "execution_count": null,
   "metadata": {},
   "outputs": [],
   "source": [
    "# Your code here\n",
    "letters = ['a', 'b', 'c', 'd', 'e']\n"
   ]
  },
  {
   "cell_type": "markdown",
   "metadata": {},
   "source": [
    "### Question 34: Assignment by Reference\n",
    "**Theory Question:** What will happen when this code runs?\n",
    "```python\n",
    "list1 = [1, 2, 3]\n",
    "list2 = list1\n",
    "list1.append(4)\n",
    "print(list2)\n",
    "```\n",
    "How can you prevent this behavior?"
   ]
  },
  {
   "cell_type": "code",
   "execution_count": null,
   "metadata": {},
   "outputs": [],
   "source": [
    "# Write your prediction and solution\n",
    "# Prediction:\n",
    "# Solution to prevent this:\n",
    "\n",
    "list1 = [1, 2, 3]\n",
    "list2 = list1\n",
    "list1.append(4)\n",
    "print(list2)\n"
   ]
  },
  {
   "cell_type": "markdown",
   "metadata": {},
   "source": [
    "### Question 35: List Methods - Append and Insert\n",
    "Start with an empty list. Add the numbers 1, 3, 5 to it. Then insert the number 2 between 1 and 3, and insert 4 between 3 and 5."
   ]
  },
  {
   "cell_type": "code",
   "execution_count": null,
   "metadata": {},
   "outputs": [],
   "source": [
    "# Your code here\n"
   ]
  },
  {
   "cell_type": "markdown",
   "metadata": {},
   "source": [
    "### Question 36: List Methods - Remove and Pop\n",
    "Given the list [10, 20, 30, 40, 50], remove the element 30, then pop the last element and print what was popped."
   ]
  },
  {
   "cell_type": "code",
   "execution_count": null,
   "metadata": {},
   "outputs": [],
   "source": [
    "# Your code here\n",
    "numbers = [10, 20, 30, 40, 50]\n"
   ]
  },
  {
   "cell_type": "markdown",
   "metadata": {},
   "source": [
    "### Question 37: List Methods - Index and Count\n",
    "Given the list [1, 2, 2, 3, 2, 4], find:\n",
    "1. The index of the first occurrence of 2\n",
    "2. How many times 2 appears in the list"
   ]
  },
  {
   "cell_type": "code",
   "execution_count": null,
   "metadata": {},
   "outputs": [],
   "source": [
    "# Your code here\n",
    "numbers = [1, 2, 2, 3, 2, 4]\n"
   ]
  },
  {
   "cell_type": "markdown",
   "metadata": {},
   "source": [
    "### Question 38: List Methods - Sort and Reverse\n",
    "Given the list ['banana', 'apple', 'cherry', 'date'], sort it alphabetically and then reverse the order."
   ]
  },
  {
   "cell_type": "code",
   "execution_count": null,
   "metadata": {},
   "outputs": [],
   "source": [
    "# Your code here\n",
    "fruits = ['banana', 'apple', 'cherry', 'date']\n"
   ]
  },
  {
   "cell_type": "markdown",
   "metadata": {},
   "source": [
    "### Question 39: List Comprehension - Squares\n",
    "Create a list of squares for numbers 1 to 10 using list comprehension."
   ]
  },
  {
   "cell_type": "code",
   "execution_count": null,
   "metadata": {},
   "outputs": [],
   "source": [
    "# Your code here\n"
   ]
  },
  {
   "cell_type": "markdown",
   "metadata": {},
   "source": [
    "### Question 40: List Comprehension - Even Numbers\n",
    "Create a list of even numbers from 0 to 20 using list comprehension."
   ]
  },
  {
   "cell_type": "code",
   "execution_count": null,
   "metadata": {},
   "outputs": [],
   "source": [
    "# Your code here\n"
   ]
  },
  {
   "cell_type": "markdown",
   "metadata": {},
   "source": [
    "### Question 41: List Comprehension - String Processing\n",
    "Given a list of words ['hello', 'world', 'python', 'programming'], create a new list with the length of each word using list comprehension."
   ]
  },
  {
   "cell_type": "code",
   "execution_count": null,
   "metadata": {},
   "outputs": [],
   "source": [
    "# Your code here\n",
    "words = ['hello', 'world', 'python', 'programming']\n"
   ]
  },
  {
   "cell_type": "markdown",
   "metadata": {},
   "source": [
    "### Question 42: List Comprehension - Conditional\n",
    "Create a list of numbers from 1 to 20, but only include numbers that are divisible by either 3 or 5."
   ]
  },
  {
   "cell_type": "code",
   "execution_count": null,
   "metadata": {},
   "outputs": [],
   "source": [
    "# Your code here\n"
   ]
  },
  {
   "cell_type": "markdown",
   "metadata": {},
   "source": [
    "### Question 43: Complex List Comprehension\n",
    "Create a list of tuples where each tuple contains a number and its square, for numbers 1 to 5."
   ]
  },
  {
   "cell_type": "code",
   "execution_count": null,
   "metadata": {},
   "outputs": [],
   "source": [
    "# Your code here\n"
   ]
  },
  {
   "cell_type": "markdown",
   "metadata": {},
   "source": [
    "### Question 44: Combining Concepts - Password Checker\n",
    "Write a function that checks if a password is strong. A strong password:\n",
    "- Is at least 8 characters long\n",
    "- Contains at least one uppercase letter\n",
    "- Contains at least one lowercase letter\n",
    "- Contains at least one digit"
   ]
  },
  {
   "cell_type": "code",
   "execution_count": null,
   "metadata": {},
   "outputs": [],
   "source": [
    "# Your code here\n"
   ]
  },
  {
   "cell_type": "markdown",
   "metadata": {},
   "source": [
    "### Question 45: Combining Concepts - Fibonacci Sequence\n",
    "Write a function that generates the first n numbers in the Fibonacci sequence and returns them as a list."
   ]
  },
  {
   "cell_type": "code",
   "execution_count": null,
   "metadata": {},
   "outputs": [],
   "source": [
    "# Your code here\n"
   ]
  },
  {
   "cell_type": "markdown",
   "metadata": {},
   "source": [
    "### Question 46: Combining Concepts - Word Frequency\n",
    "Write a function that takes a sentence as input and returns a dictionary with word frequencies (how many times each word appears)."
   ]
  },
  {
   "cell_type": "code",
   "execution_count": null,
   "metadata": {},
   "outputs": [],
   "source": [
    "# Your code here\n"
   ]
  },
  {
   "cell_type": "markdown",
   "metadata": {},
   "source": [
    "### Question 47: Combining Concepts - Grade Calculator\n",
    "Create a function that takes a list of test scores and returns:\n",
    "1. The average score\n",
    "2. The letter grade based on average (A: 90-100, B: 80-89, C: 70-79, D: 60-69, F: below 60)\n",
    "3. The number of scores above average"
   ]
  },
  {
   "cell_type": "code",
   "execution_count": null,
   "metadata": {},
   "outputs": [],
   "source": [
    "# Your code here\n"
   ]
  },
  {
   "cell_type": "markdown",
   "metadata": {},
   "source": [
    "### Question 48: Combining Concepts - List Statistics\n",
    "Write a function that takes a list of numbers and returns a tuple containing:\n",
    "(minimum, maximum, sum, average, median)"
   ]
  },
  {
   "cell_type": "code",
   "execution_count": null,
   "metadata": {},
   "outputs": [],
   "source": [
    "# Your code here\n"
   ]
  },
  {
   "cell_type": "markdown",
   "metadata": {},
   "source": [
    "### Question 49: Combining Concepts - Matrix Operations\n",
    "Create a function that takes two 2x2 matrices (represented as lists of lists) and returns their sum."
   ]
  },
  {
   "cell_type": "code",
   "execution_count": null,
   "metadata": {},
   "outputs": [],
   "source": [
    "# Your code here\n",
    "# Example matrices:\n",
    "# matrix1 = [[1, 2], [3, 4]]\n",
    "# matrix2 = [[5, 6], [7, 8]]\n",
    "# Expected result: [[6, 8], [10, 12]]\n"
   ]
  },
  {
   "cell_type": "markdown",
   "metadata": {},
   "source": [
    "### Question 50: Final Challenge - Text Analysis\n",
    "Create a comprehensive text analysis function that takes a string and returns:\n",
    "1. Number of characters (including spaces)\n",
    "2. Number of words\n",
    "3. Number of sentences (count by periods, exclamation marks, and question marks)\n",
    "4. Most frequent word\n",
    "5. Average word length\n",
    "6. List of unique words (case-insensitive)\n",
    "\n",
    "Test it with: \"Hello world! This is a test. How are you doing today? This is fun!\""
   ]
  },
  {
   "cell_type": "code",
   "execution_count": null,
   "metadata": {},
   "outputs": [],
   "source": [
    "# Your code here\n",
    "test_text = \"Hello world! This is a test. How are you doing today? This is fun!\"\n"
   ]
  },
  {
   "cell_type": "markdown",
   "metadata": {},
   "source": [
    "---\n",
    "## Congratulations!\n",
    "\n",
    "You've completed all 50 practice questions covering:\n",
    "- Formatted printing and f-strings\n",
    "- Input/output operations\n",
    "- While and for loops\n",
    "- Range function and nested loops\n",
    "- Functions (definition, parameters, return values)\n",
    "- Keyword and default arguments\n",
    "- Local vs global variables\n",
    "- Higher-order functions and lambda expressions\n",
    "- String methods\n",
    "- Tuples (creation, operations, immutability)\n",
    "- Lists (creation, modification, methods)\n",
    "- List comprehensions\n",
    "- Assignment by reference and mutability\n",
    "- Complex problem solving combining multiple concepts\n",
    "\n",
    "**Tips for Success:**\n",
    "1. Practice regularly - consistency is key!\n",
    "2. Don't just copy solutions - understand the logic\n",
    "3. Experiment with variations of each problem\n",
    "4. Use the Python documentation when needed\n",
    "5. Test your functions with different inputs\n",
    "\n",
    "Keep practicing and happy coding! 🐍"
   ]
  },
  {
   "cell_type": "code",
   "execution_count": null,
   "metadata": {},
   "outputs": [],
   "source": []
  }
 ],
 "metadata": {
  "kernelspec": {
   "display_name": "base",
   "language": "python",
   "name": "python3"
  },
  "language_info": {
   "codemirror_mode": {
    "name": "ipython",
    "version": 3
   },
   "file_extension": ".py",
   "mimetype": "text/x-python",
   "name": "python",
   "nbconvert_exporter": "python",
   "pygments_lexer": "ipython3",
   "version": "3.11.5"
  }
 },
 "nbformat": 4,
 "nbformat_minor": 4
}
